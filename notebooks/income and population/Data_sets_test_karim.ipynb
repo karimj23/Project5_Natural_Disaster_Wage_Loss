{
 "cells": [
  {
   "cell_type": "code",
   "execution_count": 1,
   "metadata": {},
   "outputs": [],
   "source": [
    "import pandas as pd"
   ]
  },
  {
   "cell_type": "code",
   "execution_count": 2,
   "metadata": {},
   "outputs": [],
   "source": [
    "fl_income = pd.read_csv(\"../Datasets/fl_income_pop_zip_county.csv\", index_col=\"Unnamed: 0\")\n",
    "fl_hurriance = pd.read_csv(\"../Datasets/fl_hurricane.csv\", index_col=\"Unnamed: 0\")\n",
    "fl_merge = pd.read_csv(\"../Datasets/fl_data_merge.csv\")"
   ]
  },
  {
   "cell_type": "code",
   "execution_count": 3,
   "metadata": {},
   "outputs": [
    {
     "data": {
      "text/html": [
       "<div>\n",
       "<style scoped>\n",
       "    .dataframe tbody tr th:only-of-type {\n",
       "        vertical-align: middle;\n",
       "    }\n",
       "\n",
       "    .dataframe tbody tr th {\n",
       "        vertical-align: top;\n",
       "    }\n",
       "\n",
       "    .dataframe thead th {\n",
       "        text-align: right;\n",
       "    }\n",
       "</style>\n",
       "<table border=\"1\" class=\"dataframe\">\n",
       "  <thead>\n",
       "    <tr style=\"text-align: right;\">\n",
       "      <th></th>\n",
       "      <th>zipcode</th>\n",
       "      <th>tot_income</th>\n",
       "      <th>state</th>\n",
       "      <th>population</th>\n",
       "      <th>city</th>\n",
       "      <th>county</th>\n",
       "    </tr>\n",
       "  </thead>\n",
       "  <tbody>\n",
       "    <tr>\n",
       "      <th>4904</th>\n",
       "      <td>32003</td>\n",
       "      <td>1143458</td>\n",
       "      <td>FL</td>\n",
       "      <td>29247</td>\n",
       "      <td>FLEMING ISLAND</td>\n",
       "      <td>Clay</td>\n",
       "    </tr>\n",
       "  </tbody>\n",
       "</table>\n",
       "</div>"
      ],
      "text/plain": [
       "      zipcode  tot_income state  population            city county\n",
       "4904    32003     1143458    FL       29247  FLEMING ISLAND   Clay"
      ]
     },
     "execution_count": 3,
     "metadata": {},
     "output_type": "execute_result"
    }
   ],
   "source": [
    "fl_income.head(1)"
   ]
  },
  {
   "cell_type": "code",
   "execution_count": 4,
   "metadata": {},
   "outputs": [
    {
     "data": {
      "text/html": [
       "<div>\n",
       "<style scoped>\n",
       "    .dataframe tbody tr th:only-of-type {\n",
       "        vertical-align: middle;\n",
       "    }\n",
       "\n",
       "    .dataframe tbody tr th {\n",
       "        vertical-align: top;\n",
       "    }\n",
       "\n",
       "    .dataframe thead th {\n",
       "        text-align: right;\n",
       "    }\n",
       "</style>\n",
       "<table border=\"1\" class=\"dataframe\">\n",
       "  <thead>\n",
       "    <tr style=\"text-align: right;\">\n",
       "      <th></th>\n",
       "      <th>Disaster Number</th>\n",
       "      <th>IH Program Declared</th>\n",
       "      <th>IA Program Declared</th>\n",
       "      <th>PA Program Declared</th>\n",
       "      <th>HM Program Declared</th>\n",
       "      <th>State</th>\n",
       "      <th>Declaration Date</th>\n",
       "      <th>Disaster Type</th>\n",
       "      <th>Incident Type</th>\n",
       "      <th>Title</th>\n",
       "      <th>Incident Begin Date</th>\n",
       "      <th>Incident End Date</th>\n",
       "      <th>Place Code</th>\n",
       "      <th>Declared County/Area</th>\n",
       "      <th>Declaration Request Number</th>\n",
       "      <th>Incident Duration Days</th>\n",
       "      <th>time</th>\n",
       "    </tr>\n",
       "  </thead>\n",
       "  <tbody>\n",
       "    <tr>\n",
       "      <th>212</th>\n",
       "      <td>4399.0</td>\n",
       "      <td>Yes</td>\n",
       "      <td>No</td>\n",
       "      <td>Yes</td>\n",
       "      <td>Yes</td>\n",
       "      <td>FL</td>\n",
       "      <td>10/11/2018</td>\n",
       "      <td>DR</td>\n",
       "      <td>Hurricane</td>\n",
       "      <td>HURRICANE MICHAEL</td>\n",
       "      <td>2018-10-07</td>\n",
       "      <td>2018-10-19</td>\n",
       "      <td>99005.0</td>\n",
       "      <td>Bay (County)</td>\n",
       "      <td>18115.0</td>\n",
       "      <td>12 days 00:00:00.000000000</td>\n",
       "      <td>2018Q4</td>\n",
       "    </tr>\n",
       "  </tbody>\n",
       "</table>\n",
       "</div>"
      ],
      "text/plain": [
       "     Disaster Number IH Program Declared IA Program Declared  \\\n",
       "212           4399.0                 Yes                  No   \n",
       "\n",
       "    PA Program Declared HM Program Declared State  Declaration Date  \\\n",
       "212                 Yes                 Yes     FL       10/11/2018   \n",
       "\n",
       "    Disaster Type Incident Type              Title Incident Begin Date  \\\n",
       "212            DR     Hurricane  HURRICANE MICHAEL          2018-10-07   \n",
       "\n",
       "    Incident End Date  Place Code Declared County/Area  \\\n",
       "212        2018-10-19     99005.0         Bay (County)   \n",
       "\n",
       "     Declaration Request Number      Incident Duration Days    time  \n",
       "212                     18115.0  12 days 00:00:00.000000000  2018Q4  "
      ]
     },
     "execution_count": 4,
     "metadata": {},
     "output_type": "execute_result"
    }
   ],
   "source": [
    "fl_hurriance.head(1)"
   ]
  },
  {
   "cell_type": "code",
   "execution_count": 5,
   "metadata": {},
   "outputs": [
    {
     "data": {
      "text/html": [
       "<div>\n",
       "<style scoped>\n",
       "    .dataframe tbody tr th:only-of-type {\n",
       "        vertical-align: middle;\n",
       "    }\n",
       "\n",
       "    .dataframe tbody tr th {\n",
       "        vertical-align: top;\n",
       "    }\n",
       "\n",
       "    .dataframe thead th {\n",
       "        text-align: right;\n",
       "    }\n",
       "</style>\n",
       "<table border=\"1\" class=\"dataframe\">\n",
       "  <thead>\n",
       "    <tr style=\"text-align: right;\">\n",
       "      <th></th>\n",
       "      <th>time</th>\n",
       "      <th>Disaster Number</th>\n",
       "      <th>IH Program Declared</th>\n",
       "      <th>IA Program Declared</th>\n",
       "      <th>PA Program Declared</th>\n",
       "      <th>HM Program Declared</th>\n",
       "      <th>State</th>\n",
       "      <th>Declaration Date</th>\n",
       "      <th>Disaster Type</th>\n",
       "      <th>Incident Type</th>\n",
       "      <th>...</th>\n",
       "      <th>HirAEndReplr</th>\n",
       "      <th>HirAs</th>\n",
       "      <th>Payroll</th>\n",
       "      <th>Unnamed: 0.1</th>\n",
       "      <th>county</th>\n",
       "      <th>county_codes</th>\n",
       "      <th>county_name</th>\n",
       "      <th>state</th>\n",
       "      <th>state_abv</th>\n",
       "      <th>time_y</th>\n",
       "    </tr>\n",
       "  </thead>\n",
       "  <tbody>\n",
       "    <tr>\n",
       "      <th>0</th>\n",
       "      <td>1965-09-14</td>\n",
       "      <td>209.0</td>\n",
       "      <td>No</td>\n",
       "      <td>Yes</td>\n",
       "      <td>Yes</td>\n",
       "      <td>Yes</td>\n",
       "      <td>FL</td>\n",
       "      <td>9/14/1965</td>\n",
       "      <td>DR</td>\n",
       "      <td>Hurricane</td>\n",
       "      <td>...</td>\n",
       "      <td>NaN</td>\n",
       "      <td>NaN</td>\n",
       "      <td>NaN</td>\n",
       "      <td>NaN</td>\n",
       "      <td>NaN</td>\n",
       "      <td>NaN</td>\n",
       "      <td>NaN</td>\n",
       "      <td>NaN</td>\n",
       "      <td>NaN</td>\n",
       "      <td>NaN</td>\n",
       "    </tr>\n",
       "  </tbody>\n",
       "</table>\n",
       "<p>1 rows × 48 columns</p>\n",
       "</div>"
      ],
      "text/plain": [
       "         time  Disaster Number IH Program Declared IA Program Declared  \\\n",
       "0  1965-09-14            209.0                  No                 Yes   \n",
       "\n",
       "  PA Program Declared HM Program Declared State  Declaration Date  \\\n",
       "0                 Yes                 Yes     FL        9/14/1965   \n",
       "\n",
       "  Disaster Type Incident Type  ... HirAEndReplr HirAs Payroll  Unnamed: 0.1  \\\n",
       "0            DR     Hurricane  ...          NaN   NaN     NaN           NaN   \n",
       "\n",
       "  county  county_codes county_name state  state_abv  time_y  \n",
       "0    NaN           NaN         NaN   NaN        NaN     NaN  \n",
       "\n",
       "[1 rows x 48 columns]"
      ]
     },
     "execution_count": 5,
     "metadata": {},
     "output_type": "execute_result"
    }
   ],
   "source": [
    "fl_merge.head(1)"
   ]
  },
  {
   "cell_type": "code",
   "execution_count": 6,
   "metadata": {},
   "outputs": [
    {
     "name": "stdout",
     "output_type": "stream",
     "text": [
      "(1112, 6)\n",
      "(804, 17)\n",
      "(4824, 48)\n"
     ]
    }
   ],
   "source": [
    "print(fl_income.shape)\n",
    "print(fl_hurriance.shape)\n",
    "print(fl_merge.shape)"
   ]
  },
  {
   "cell_type": "code",
   "execution_count": 7,
   "metadata": {},
   "outputs": [
    {
     "data": {
      "text/plain": [
       "Index(['Disaster Number', 'IH Program Declared', 'IA Program Declared',\n",
       "       'PA Program Declared', 'HM Program Declared', 'State ',\n",
       "       'Declaration Date', 'Disaster Type', 'Incident Type', 'Title',\n",
       "       'Incident Begin Date', 'Incident End Date', 'Place Code',\n",
       "       'Declared County/Area', 'Declaration Request Number',\n",
       "       'Incident Duration Days', 'time'],\n",
       "      dtype='object')"
      ]
     },
     "execution_count": 7,
     "metadata": {},
     "output_type": "execute_result"
    }
   ],
   "source": [
    "fl_hurriance.columns"
   ]
  },
  {
   "cell_type": "code",
   "execution_count": 8,
   "metadata": {},
   "outputs": [],
   "source": [
    "fl_hurriance = fl_hurriance.drop(columns=['IH Program Declared', 'IA Program Declared',\n",
    "       'PA Program Declared', 'HM Program Declared', 'State ', \"Disaster Number\", 'Disaster Type', \"Declaration Date\", \"Incident Type\", \"Declaration Request Number\"])"
   ]
  },
  {
   "cell_type": "code",
   "execution_count": 9,
   "metadata": {},
   "outputs": [
    {
     "data": {
      "text/html": [
       "<div>\n",
       "<style scoped>\n",
       "    .dataframe tbody tr th:only-of-type {\n",
       "        vertical-align: middle;\n",
       "    }\n",
       "\n",
       "    .dataframe tbody tr th {\n",
       "        vertical-align: top;\n",
       "    }\n",
       "\n",
       "    .dataframe thead th {\n",
       "        text-align: right;\n",
       "    }\n",
       "</style>\n",
       "<table border=\"1\" class=\"dataframe\">\n",
       "  <thead>\n",
       "    <tr style=\"text-align: right;\">\n",
       "      <th></th>\n",
       "      <th>Title</th>\n",
       "      <th>Incident Begin Date</th>\n",
       "      <th>Incident End Date</th>\n",
       "      <th>Place Code</th>\n",
       "      <th>Declared County/Area</th>\n",
       "      <th>Incident Duration Days</th>\n",
       "      <th>time</th>\n",
       "    </tr>\n",
       "  </thead>\n",
       "  <tbody>\n",
       "    <tr>\n",
       "      <th>212</th>\n",
       "      <td>HURRICANE MICHAEL</td>\n",
       "      <td>2018-10-07</td>\n",
       "      <td>2018-10-19</td>\n",
       "      <td>99005.0</td>\n",
       "      <td>Bay (County)</td>\n",
       "      <td>12 days 00:00:00.000000000</td>\n",
       "      <td>2018Q4</td>\n",
       "    </tr>\n",
       "    <tr>\n",
       "      <th>213</th>\n",
       "      <td>HURRICANE MICHAEL</td>\n",
       "      <td>2018-10-07</td>\n",
       "      <td>2018-10-19</td>\n",
       "      <td>99013.0</td>\n",
       "      <td>Calhoun (County)</td>\n",
       "      <td>12 days 00:00:00.000000000</td>\n",
       "      <td>2018Q4</td>\n",
       "    </tr>\n",
       "    <tr>\n",
       "      <th>214</th>\n",
       "      <td>HURRICANE MICHAEL</td>\n",
       "      <td>2018-10-07</td>\n",
       "      <td>2018-10-19</td>\n",
       "      <td>99037.0</td>\n",
       "      <td>Franklin (County)</td>\n",
       "      <td>12 days 00:00:00.000000000</td>\n",
       "      <td>2018Q4</td>\n",
       "    </tr>\n",
       "    <tr>\n",
       "      <th>215</th>\n",
       "      <td>HURRICANE MICHAEL</td>\n",
       "      <td>2018-10-07</td>\n",
       "      <td>2018-10-19</td>\n",
       "      <td>99039.0</td>\n",
       "      <td>Gadsden (County)</td>\n",
       "      <td>12 days 00:00:00.000000000</td>\n",
       "      <td>2018Q4</td>\n",
       "    </tr>\n",
       "    <tr>\n",
       "      <th>216</th>\n",
       "      <td>HURRICANE MICHAEL</td>\n",
       "      <td>2018-10-07</td>\n",
       "      <td>2018-10-19</td>\n",
       "      <td>99045.0</td>\n",
       "      <td>Gulf (County)</td>\n",
       "      <td>12 days 00:00:00.000000000</td>\n",
       "      <td>2018Q4</td>\n",
       "    </tr>\n",
       "    <tr>\n",
       "      <th>...</th>\n",
       "      <td>...</td>\n",
       "      <td>...</td>\n",
       "      <td>...</td>\n",
       "      <td>...</td>\n",
       "      <td>...</td>\n",
       "      <td>...</td>\n",
       "      <td>...</td>\n",
       "    </tr>\n",
       "    <tr>\n",
       "      <th>47751</th>\n",
       "      <td>HURRICANE BETSY</td>\n",
       "      <td>1965-09-14</td>\n",
       "      <td>1965-09-14</td>\n",
       "      <td>99071.0</td>\n",
       "      <td>Lee (County)</td>\n",
       "      <td>0 days 00:00:00.000000000</td>\n",
       "      <td>1965Q3</td>\n",
       "    </tr>\n",
       "    <tr>\n",
       "      <th>47752</th>\n",
       "      <td>HURRICANE BETSY</td>\n",
       "      <td>1965-09-14</td>\n",
       "      <td>1965-09-14</td>\n",
       "      <td>99085.0</td>\n",
       "      <td>Martin (County)</td>\n",
       "      <td>0 days 00:00:00.000000000</td>\n",
       "      <td>1965Q3</td>\n",
       "    </tr>\n",
       "    <tr>\n",
       "      <th>47753</th>\n",
       "      <td>HURRICANE BETSY</td>\n",
       "      <td>1965-09-14</td>\n",
       "      <td>1965-09-14</td>\n",
       "      <td>99087.0</td>\n",
       "      <td>Monroe (County)</td>\n",
       "      <td>0 days 00:00:00.000000000</td>\n",
       "      <td>1965Q3</td>\n",
       "    </tr>\n",
       "    <tr>\n",
       "      <th>47754</th>\n",
       "      <td>HURRICANE BETSY</td>\n",
       "      <td>1965-09-14</td>\n",
       "      <td>1965-09-14</td>\n",
       "      <td>99099.0</td>\n",
       "      <td>Palm Beach (County)</td>\n",
       "      <td>0 days 00:00:00.000000000</td>\n",
       "      <td>1965Q3</td>\n",
       "    </tr>\n",
       "    <tr>\n",
       "      <th>47755</th>\n",
       "      <td>HURRICANE BETSY</td>\n",
       "      <td>1965-09-14</td>\n",
       "      <td>1965-09-14</td>\n",
       "      <td>99111.0</td>\n",
       "      <td>St. Lucie (County)</td>\n",
       "      <td>0 days 00:00:00.000000000</td>\n",
       "      <td>1965Q3</td>\n",
       "    </tr>\n",
       "  </tbody>\n",
       "</table>\n",
       "<p>804 rows × 7 columns</p>\n",
       "</div>"
      ],
      "text/plain": [
       "                   Title Incident Begin Date Incident End Date  Place Code  \\\n",
       "212    HURRICANE MICHAEL          2018-10-07        2018-10-19     99005.0   \n",
       "213    HURRICANE MICHAEL          2018-10-07        2018-10-19     99013.0   \n",
       "214    HURRICANE MICHAEL          2018-10-07        2018-10-19     99037.0   \n",
       "215    HURRICANE MICHAEL          2018-10-07        2018-10-19     99039.0   \n",
       "216    HURRICANE MICHAEL          2018-10-07        2018-10-19     99045.0   \n",
       "...                  ...                 ...               ...         ...   \n",
       "47751    HURRICANE BETSY          1965-09-14        1965-09-14     99071.0   \n",
       "47752    HURRICANE BETSY          1965-09-14        1965-09-14     99085.0   \n",
       "47753    HURRICANE BETSY          1965-09-14        1965-09-14     99087.0   \n",
       "47754    HURRICANE BETSY          1965-09-14        1965-09-14     99099.0   \n",
       "47755    HURRICANE BETSY          1965-09-14        1965-09-14     99111.0   \n",
       "\n",
       "      Declared County/Area      Incident Duration Days    time  \n",
       "212           Bay (County)  12 days 00:00:00.000000000  2018Q4  \n",
       "213       Calhoun (County)  12 days 00:00:00.000000000  2018Q4  \n",
       "214      Franklin (County)  12 days 00:00:00.000000000  2018Q4  \n",
       "215       Gadsden (County)  12 days 00:00:00.000000000  2018Q4  \n",
       "216          Gulf (County)  12 days 00:00:00.000000000  2018Q4  \n",
       "...                    ...                         ...     ...  \n",
       "47751         Lee (County)   0 days 00:00:00.000000000  1965Q3  \n",
       "47752      Martin (County)   0 days 00:00:00.000000000  1965Q3  \n",
       "47753      Monroe (County)   0 days 00:00:00.000000000  1965Q3  \n",
       "47754  Palm Beach (County)   0 days 00:00:00.000000000  1965Q3  \n",
       "47755   St. Lucie (County)   0 days 00:00:00.000000000  1965Q3  \n",
       "\n",
       "[804 rows x 7 columns]"
      ]
     },
     "execution_count": 9,
     "metadata": {},
     "output_type": "execute_result"
    }
   ],
   "source": [
    "fl_hurriance"
   ]
  },
  {
   "cell_type": "code",
   "execution_count": 10,
   "metadata": {},
   "outputs": [
    {
     "data": {
      "text/plain": [
       "33"
      ]
     },
     "execution_count": 10,
     "metadata": {},
     "output_type": "execute_result"
    }
   ],
   "source": [
    "len(fl_hurriance['Title'].unique())"
   ]
  },
  {
   "cell_type": "code",
   "execution_count": 11,
   "metadata": {},
   "outputs": [],
   "source": [
    "fl_hurriance[\"Declared County/Area\"] = fl_hurriance[\"Declared County/Area\"].str.replace(r\"[()]\",\"\")"
   ]
  },
  {
   "cell_type": "code",
   "execution_count": 12,
   "metadata": {},
   "outputs": [
    {
     "data": {
      "text/plain": [
       "74"
      ]
     },
     "execution_count": 12,
     "metadata": {},
     "output_type": "execute_result"
    }
   ],
   "source": [
    "len(fl_hurriance['Declared County/Area'].unique())"
   ]
  },
  {
   "cell_type": "code",
   "execution_count": 13,
   "metadata": {},
   "outputs": [
    {
     "data": {
      "text/plain": [
       "Title                      object\n",
       "Incident Begin Date        object\n",
       "Incident End Date          object\n",
       "Place Code                float64\n",
       "Declared County/Area       object\n",
       "Incident Duration Days     object\n",
       "time                       object\n",
       "dtype: object"
      ]
     },
     "execution_count": 13,
     "metadata": {},
     "output_type": "execute_result"
    }
   ],
   "source": [
    "fl_hurriance.dtypes"
   ]
  },
  {
   "cell_type": "code",
   "execution_count": 14,
   "metadata": {},
   "outputs": [
    {
     "data": {
      "text/plain": [
       "'12 days 00:00:00.000000000'"
      ]
     },
     "execution_count": 14,
     "metadata": {},
     "output_type": "execute_result"
    }
   ],
   "source": [
    "fl_hurriance['Incident Duration Days'][212]"
   ]
  },
  {
   "cell_type": "code",
   "execution_count": 15,
   "metadata": {
    "scrolled": true
   },
   "outputs": [],
   "source": [
    "fl_hurriance['Incident Duration Days'] = fl_hurriance['Incident Duration Days'].str.replace(' 00:00:00.000000000', '', regex=True)"
   ]
  },
  {
   "cell_type": "code",
   "execution_count": 16,
   "metadata": {},
   "outputs": [],
   "source": [
    "fl_hurriance['Incident Duration Days'] = fl_hurriance['Incident Duration Days'].str.replace(' days',\"\",regex=True)"
   ]
  },
  {
   "cell_type": "code",
   "execution_count": 17,
   "metadata": {},
   "outputs": [],
   "source": [
    "fl_hurriance['Incident Duration Days'] = fl_hurriance['Incident Duration Days'].astype(int)"
   ]
  },
  {
   "cell_type": "code",
   "execution_count": 18,
   "metadata": {},
   "outputs": [],
   "source": [
    "fl_hurriance = fl_hurriance.drop(columns=[\"Incident Begin Date\", \"Incident End Date\"])"
   ]
  },
  {
   "cell_type": "code",
   "execution_count": 19,
   "metadata": {},
   "outputs": [
    {
     "data": {
      "text/plain": [
       "21"
      ]
     },
     "execution_count": 19,
     "metadata": {},
     "output_type": "execute_result"
    }
   ],
   "source": [
    "len(fl_hurriance['time'].unique())"
   ]
  },
  {
   "cell_type": "code",
   "execution_count": 20,
   "metadata": {},
   "outputs": [
    {
     "data": {
      "text/plain": [
       "33"
      ]
     },
     "execution_count": 20,
     "metadata": {},
     "output_type": "execute_result"
    }
   ],
   "source": [
    "len(fl_hurriance['Title'].unique())"
   ]
  },
  {
   "cell_type": "code",
   "execution_count": 21,
   "metadata": {},
   "outputs": [
    {
     "data": {
      "text/plain": [
       "Index(['Title', 'Place Code', 'Declared County/Area', 'Incident Duration Days',\n",
       "       'time'],\n",
       "      dtype='object')"
      ]
     },
     "execution_count": 21,
     "metadata": {},
     "output_type": "execute_result"
    }
   ],
   "source": [
    "fl_hurriance.columns"
   ]
  },
  {
   "cell_type": "code",
   "execution_count": 22,
   "metadata": {},
   "outputs": [
    {
     "data": {
      "text/plain": [
       "Index(['zipcode', 'tot_income', 'state', 'population', 'city', 'county'], dtype='object')"
      ]
     },
     "execution_count": 22,
     "metadata": {},
     "output_type": "execute_result"
    }
   ],
   "source": [
    "fl_income.columns"
   ]
  },
  {
   "cell_type": "code",
   "execution_count": 132,
   "metadata": {},
   "outputs": [
    {
     "data": {
      "text/plain": [
       "array(['2018Q4', '2017Q4', '2017Q3', '2016Q4', '2016Q3', '2012Q3',\n",
       "       '2008Q3', '2005Q4', '2005Q3', '2004Q3', '1999Q4', '1999Q3',\n",
       "       '1998Q3', '1995Q4', '1995Q3', '1992Q3', '1985Q4', '1985Q3',\n",
       "       '1979Q3', '1968Q4', '1965Q3'], dtype=object)"
      ]
     },
     "execution_count": 132,
     "metadata": {},
     "output_type": "execute_result"
    }
   ],
   "source": [
    "fl_hurriance['time'].unique()"
   ]
  },
  {
   "cell_type": "code",
   "execution_count": 24,
   "metadata": {},
   "outputs": [
    {
     "data": {
      "text/html": [
       "<div>\n",
       "<style scoped>\n",
       "    .dataframe tbody tr th:only-of-type {\n",
       "        vertical-align: middle;\n",
       "    }\n",
       "\n",
       "    .dataframe tbody tr th {\n",
       "        vertical-align: top;\n",
       "    }\n",
       "\n",
       "    .dataframe thead th {\n",
       "        text-align: right;\n",
       "    }\n",
       "</style>\n",
       "<table border=\"1\" class=\"dataframe\">\n",
       "  <thead>\n",
       "    <tr style=\"text-align: right;\">\n",
       "      <th></th>\n",
       "      <th>zipcode</th>\n",
       "      <th>tot_income</th>\n",
       "      <th>state</th>\n",
       "      <th>population</th>\n",
       "      <th>city</th>\n",
       "      <th>county</th>\n",
       "    </tr>\n",
       "  </thead>\n",
       "  <tbody>\n",
       "    <tr>\n",
       "      <th>4906</th>\n",
       "      <td>32008</td>\n",
       "      <td>90021</td>\n",
       "      <td>FL</td>\n",
       "      <td>5144</td>\n",
       "      <td>BRANFORD</td>\n",
       "      <td>Lafayette</td>\n",
       "    </tr>\n",
       "    <tr>\n",
       "      <th>4907</th>\n",
       "      <td>32008</td>\n",
       "      <td>90021</td>\n",
       "      <td>FL</td>\n",
       "      <td>5144</td>\n",
       "      <td>BRANFORD</td>\n",
       "      <td>Suwannee</td>\n",
       "    </tr>\n",
       "    <tr>\n",
       "      <th>4911</th>\n",
       "      <td>32024</td>\n",
       "      <td>378188</td>\n",
       "      <td>FL</td>\n",
       "      <td>19442</td>\n",
       "      <td>LAKE CITY</td>\n",
       "      <td>Suwannee</td>\n",
       "    </tr>\n",
       "    <tr>\n",
       "      <th>4918</th>\n",
       "      <td>32043</td>\n",
       "      <td>1019886</td>\n",
       "      <td>FL</td>\n",
       "      <td>24908</td>\n",
       "      <td>GREEN COVE SPRINGS</td>\n",
       "      <td>Putnam</td>\n",
       "    </tr>\n",
       "    <tr>\n",
       "      <th>4924</th>\n",
       "      <td>32054</td>\n",
       "      <td>185008</td>\n",
       "      <td>FL</td>\n",
       "      <td>11669</td>\n",
       "      <td>LAKE BUTLER</td>\n",
       "      <td>Union</td>\n",
       "    </tr>\n",
       "    <tr>\n",
       "      <th>...</th>\n",
       "      <td>...</td>\n",
       "      <td>...</td>\n",
       "      <td>...</td>\n",
       "      <td>...</td>\n",
       "      <td>...</td>\n",
       "      <td>...</td>\n",
       "    </tr>\n",
       "    <tr>\n",
       "      <th>6001</th>\n",
       "      <td>34974</td>\n",
       "      <td>467742</td>\n",
       "      <td>FL</td>\n",
       "      <td>22941</td>\n",
       "      <td>OKEECHOBEE</td>\n",
       "      <td>Highlands</td>\n",
       "    </tr>\n",
       "    <tr>\n",
       "      <th>6002</th>\n",
       "      <td>34974</td>\n",
       "      <td>467742</td>\n",
       "      <td>FL</td>\n",
       "      <td>22941</td>\n",
       "      <td>OKEECHOBEE</td>\n",
       "      <td>Martin</td>\n",
       "    </tr>\n",
       "    <tr>\n",
       "      <th>6003</th>\n",
       "      <td>34974</td>\n",
       "      <td>467742</td>\n",
       "      <td>FL</td>\n",
       "      <td>22941</td>\n",
       "      <td>OKEECHOBEE</td>\n",
       "      <td>Okeechobee</td>\n",
       "    </tr>\n",
       "    <tr>\n",
       "      <th>6011</th>\n",
       "      <td>34990</td>\n",
       "      <td>1601819</td>\n",
       "      <td>FL</td>\n",
       "      <td>28134</td>\n",
       "      <td>PALM CITY</td>\n",
       "      <td>St. Lucie</td>\n",
       "    </tr>\n",
       "    <tr>\n",
       "      <th>6013</th>\n",
       "      <td>34994</td>\n",
       "      <td>448280</td>\n",
       "      <td>FL</td>\n",
       "      <td>16955</td>\n",
       "      <td>STUART</td>\n",
       "      <td>St. Lucie</td>\n",
       "    </tr>\n",
       "  </tbody>\n",
       "</table>\n",
       "<p>152 rows × 6 columns</p>\n",
       "</div>"
      ],
      "text/plain": [
       "      zipcode  tot_income state  population                city      county\n",
       "4906    32008       90021    FL        5144            BRANFORD   Lafayette\n",
       "4907    32008       90021    FL        5144            BRANFORD    Suwannee\n",
       "4911    32024      378188    FL       19442           LAKE CITY    Suwannee\n",
       "4918    32043     1019886    FL       24908  GREEN COVE SPRINGS      Putnam\n",
       "4924    32054      185008    FL       11669         LAKE BUTLER       Union\n",
       "...       ...         ...   ...         ...                 ...         ...\n",
       "6001    34974      467742    FL       22941          OKEECHOBEE   Highlands\n",
       "6002    34974      467742    FL       22941          OKEECHOBEE      Martin\n",
       "6003    34974      467742    FL       22941          OKEECHOBEE  Okeechobee\n",
       "6011    34990     1601819    FL       28134           PALM CITY   St. Lucie\n",
       "6013    34994      448280    FL       16955              STUART   St. Lucie\n",
       "\n",
       "[152 rows x 6 columns]"
      ]
     },
     "execution_count": 24,
     "metadata": {},
     "output_type": "execute_result"
    }
   ],
   "source": [
    "fl_income[fl_income.duplicated(subset=['zipcode'])]"
   ]
  },
  {
   "cell_type": "code",
   "execution_count": 25,
   "metadata": {},
   "outputs": [
    {
     "data": {
      "text/html": [
       "<div>\n",
       "<style scoped>\n",
       "    .dataframe tbody tr th:only-of-type {\n",
       "        vertical-align: middle;\n",
       "    }\n",
       "\n",
       "    .dataframe tbody tr th {\n",
       "        vertical-align: top;\n",
       "    }\n",
       "\n",
       "    .dataframe thead th {\n",
       "        text-align: right;\n",
       "    }\n",
       "</style>\n",
       "<table border=\"1\" class=\"dataframe\">\n",
       "  <thead>\n",
       "    <tr style=\"text-align: right;\">\n",
       "      <th></th>\n",
       "      <th>zipcode</th>\n",
       "      <th>tot_income</th>\n",
       "      <th>state</th>\n",
       "      <th>population</th>\n",
       "      <th>city</th>\n",
       "      <th>county</th>\n",
       "    </tr>\n",
       "  </thead>\n",
       "  <tbody>\n",
       "    <tr>\n",
       "      <th>4904</th>\n",
       "      <td>32003</td>\n",
       "      <td>1143458</td>\n",
       "      <td>FL</td>\n",
       "      <td>29247</td>\n",
       "      <td>FLEMING ISLAND</td>\n",
       "      <td>Clay</td>\n",
       "    </tr>\n",
       "    <tr>\n",
       "      <th>4905</th>\n",
       "      <td>32008</td>\n",
       "      <td>90021</td>\n",
       "      <td>FL</td>\n",
       "      <td>5144</td>\n",
       "      <td>BRANFORD</td>\n",
       "      <td>Gilchrist</td>\n",
       "    </tr>\n",
       "    <tr>\n",
       "      <th>4906</th>\n",
       "      <td>32008</td>\n",
       "      <td>90021</td>\n",
       "      <td>FL</td>\n",
       "      <td>5144</td>\n",
       "      <td>BRANFORD</td>\n",
       "      <td>Lafayette</td>\n",
       "    </tr>\n",
       "    <tr>\n",
       "      <th>4907</th>\n",
       "      <td>32008</td>\n",
       "      <td>90021</td>\n",
       "      <td>FL</td>\n",
       "      <td>5144</td>\n",
       "      <td>BRANFORD</td>\n",
       "      <td>Suwannee</td>\n",
       "    </tr>\n",
       "    <tr>\n",
       "      <th>4908</th>\n",
       "      <td>32009</td>\n",
       "      <td>82188</td>\n",
       "      <td>FL</td>\n",
       "      <td>3481</td>\n",
       "      <td>BRYCEVILLE</td>\n",
       "      <td>Nassau</td>\n",
       "    </tr>\n",
       "    <tr>\n",
       "      <th>...</th>\n",
       "      <td>...</td>\n",
       "      <td>...</td>\n",
       "      <td>...</td>\n",
       "      <td>...</td>\n",
       "      <td>...</td>\n",
       "      <td>...</td>\n",
       "    </tr>\n",
       "    <tr>\n",
       "      <th>6011</th>\n",
       "      <td>34990</td>\n",
       "      <td>1601819</td>\n",
       "      <td>FL</td>\n",
       "      <td>28134</td>\n",
       "      <td>PALM CITY</td>\n",
       "      <td>St. Lucie</td>\n",
       "    </tr>\n",
       "    <tr>\n",
       "      <th>6012</th>\n",
       "      <td>34994</td>\n",
       "      <td>448280</td>\n",
       "      <td>FL</td>\n",
       "      <td>16955</td>\n",
       "      <td>STUART</td>\n",
       "      <td>Martin</td>\n",
       "    </tr>\n",
       "    <tr>\n",
       "      <th>6013</th>\n",
       "      <td>34994</td>\n",
       "      <td>448280</td>\n",
       "      <td>FL</td>\n",
       "      <td>16955</td>\n",
       "      <td>STUART</td>\n",
       "      <td>St. Lucie</td>\n",
       "    </tr>\n",
       "    <tr>\n",
       "      <th>6014</th>\n",
       "      <td>34996</td>\n",
       "      <td>1183626</td>\n",
       "      <td>FL</td>\n",
       "      <td>11039</td>\n",
       "      <td>STUART</td>\n",
       "      <td>Martin</td>\n",
       "    </tr>\n",
       "    <tr>\n",
       "      <th>6015</th>\n",
       "      <td>34997</td>\n",
       "      <td>1512921</td>\n",
       "      <td>FL</td>\n",
       "      <td>42971</td>\n",
       "      <td>STUART</td>\n",
       "      <td>Martin</td>\n",
       "    </tr>\n",
       "  </tbody>\n",
       "</table>\n",
       "<p>1112 rows × 6 columns</p>\n",
       "</div>"
      ],
      "text/plain": [
       "      zipcode  tot_income state  population            city     county\n",
       "4904    32003     1143458    FL       29247  FLEMING ISLAND       Clay\n",
       "4905    32008       90021    FL        5144        BRANFORD  Gilchrist\n",
       "4906    32008       90021    FL        5144        BRANFORD  Lafayette\n",
       "4907    32008       90021    FL        5144        BRANFORD   Suwannee\n",
       "4908    32009       82188    FL        3481      BRYCEVILLE     Nassau\n",
       "...       ...         ...   ...         ...             ...        ...\n",
       "6011    34990     1601819    FL       28134       PALM CITY  St. Lucie\n",
       "6012    34994      448280    FL       16955          STUART     Martin\n",
       "6013    34994      448280    FL       16955          STUART  St. Lucie\n",
       "6014    34996     1183626    FL       11039          STUART     Martin\n",
       "6015    34997     1512921    FL       42971          STUART     Martin\n",
       "\n",
       "[1112 rows x 6 columns]"
      ]
     },
     "execution_count": 25,
     "metadata": {},
     "output_type": "execute_result"
    }
   ],
   "source": [
    "fl_income"
   ]
  },
  {
   "cell_type": "code",
   "execution_count": 26,
   "metadata": {},
   "outputs": [
    {
     "data": {
      "text/plain": [
       "67"
      ]
     },
     "execution_count": 26,
     "metadata": {},
     "output_type": "execute_result"
    }
   ],
   "source": [
    "len(fl_income['county'].unique())"
   ]
  },
  {
   "cell_type": "code",
   "execution_count": 27,
   "metadata": {},
   "outputs": [],
   "source": [
    "fl_hurriance[\"Declared County/Area\"] = fl_hurriance[\"Declared County/Area\"].str.replace(\" County\",\"\")"
   ]
  },
  {
   "cell_type": "code",
   "execution_count": 28,
   "metadata": {},
   "outputs": [],
   "source": [
    "fl_income['county'] = fl_income['county'].str.lower()"
   ]
  },
  {
   "cell_type": "code",
   "execution_count": 32,
   "metadata": {},
   "outputs": [],
   "source": [
    "fl_hurriance['county'] = fl_hurriance[\"Declared County/Area\"].str.lower()"
   ]
  },
  {
   "cell_type": "code",
   "execution_count": 37,
   "metadata": {},
   "outputs": [
    {
     "ename": "KeyError",
     "evalue": "\"['Declared County/Area'] not found in axis\"",
     "output_type": "error",
     "traceback": [
      "\u001b[0;31m---------------------------------------------------------------------------\u001b[0m",
      "\u001b[0;31mKeyError\u001b[0m                                  Traceback (most recent call last)",
      "\u001b[0;32m<ipython-input-37-715c5d3598ce>\u001b[0m in \u001b[0;36m<module>\u001b[0;34m\u001b[0m\n\u001b[0;32m----> 1\u001b[0;31m \u001b[0mfl_hurriance\u001b[0m \u001b[0;34m=\u001b[0m \u001b[0mfl_hurriance\u001b[0m\u001b[0;34m.\u001b[0m\u001b[0mdrop\u001b[0m\u001b[0;34m(\u001b[0m\u001b[0mcolumns\u001b[0m\u001b[0;34m=\u001b[0m\u001b[0;34m'Declared County/Area'\u001b[0m\u001b[0;34m)\u001b[0m\u001b[0;34m\u001b[0m\u001b[0;34m\u001b[0m\u001b[0m\n\u001b[0m",
      "\u001b[0;32m/opt/anaconda3/lib/python3.7/site-packages/pandas/core/frame.py\u001b[0m in \u001b[0;36mdrop\u001b[0;34m(self, labels, axis, index, columns, level, inplace, errors)\u001b[0m\n\u001b[1;32m   4115\u001b[0m             \u001b[0mlevel\u001b[0m\u001b[0;34m=\u001b[0m\u001b[0mlevel\u001b[0m\u001b[0;34m,\u001b[0m\u001b[0;34m\u001b[0m\u001b[0;34m\u001b[0m\u001b[0m\n\u001b[1;32m   4116\u001b[0m             \u001b[0minplace\u001b[0m\u001b[0;34m=\u001b[0m\u001b[0minplace\u001b[0m\u001b[0;34m,\u001b[0m\u001b[0;34m\u001b[0m\u001b[0;34m\u001b[0m\u001b[0m\n\u001b[0;32m-> 4117\u001b[0;31m             \u001b[0merrors\u001b[0m\u001b[0;34m=\u001b[0m\u001b[0merrors\u001b[0m\u001b[0;34m,\u001b[0m\u001b[0;34m\u001b[0m\u001b[0;34m\u001b[0m\u001b[0m\n\u001b[0m\u001b[1;32m   4118\u001b[0m         )\n\u001b[1;32m   4119\u001b[0m \u001b[0;34m\u001b[0m\u001b[0m\n",
      "\u001b[0;32m/opt/anaconda3/lib/python3.7/site-packages/pandas/core/generic.py\u001b[0m in \u001b[0;36mdrop\u001b[0;34m(self, labels, axis, index, columns, level, inplace, errors)\u001b[0m\n\u001b[1;32m   3912\u001b[0m         \u001b[0;32mfor\u001b[0m \u001b[0maxis\u001b[0m\u001b[0;34m,\u001b[0m \u001b[0mlabels\u001b[0m \u001b[0;32min\u001b[0m \u001b[0maxes\u001b[0m\u001b[0;34m.\u001b[0m\u001b[0mitems\u001b[0m\u001b[0;34m(\u001b[0m\u001b[0;34m)\u001b[0m\u001b[0;34m:\u001b[0m\u001b[0;34m\u001b[0m\u001b[0;34m\u001b[0m\u001b[0m\n\u001b[1;32m   3913\u001b[0m             \u001b[0;32mif\u001b[0m \u001b[0mlabels\u001b[0m \u001b[0;32mis\u001b[0m \u001b[0;32mnot\u001b[0m \u001b[0;32mNone\u001b[0m\u001b[0;34m:\u001b[0m\u001b[0;34m\u001b[0m\u001b[0;34m\u001b[0m\u001b[0m\n\u001b[0;32m-> 3914\u001b[0;31m                 \u001b[0mobj\u001b[0m \u001b[0;34m=\u001b[0m \u001b[0mobj\u001b[0m\u001b[0;34m.\u001b[0m\u001b[0m_drop_axis\u001b[0m\u001b[0;34m(\u001b[0m\u001b[0mlabels\u001b[0m\u001b[0;34m,\u001b[0m \u001b[0maxis\u001b[0m\u001b[0;34m,\u001b[0m \u001b[0mlevel\u001b[0m\u001b[0;34m=\u001b[0m\u001b[0mlevel\u001b[0m\u001b[0;34m,\u001b[0m \u001b[0merrors\u001b[0m\u001b[0;34m=\u001b[0m\u001b[0merrors\u001b[0m\u001b[0;34m)\u001b[0m\u001b[0;34m\u001b[0m\u001b[0;34m\u001b[0m\u001b[0m\n\u001b[0m\u001b[1;32m   3915\u001b[0m \u001b[0;34m\u001b[0m\u001b[0m\n\u001b[1;32m   3916\u001b[0m         \u001b[0;32mif\u001b[0m \u001b[0minplace\u001b[0m\u001b[0;34m:\u001b[0m\u001b[0;34m\u001b[0m\u001b[0;34m\u001b[0m\u001b[0m\n",
      "\u001b[0;32m/opt/anaconda3/lib/python3.7/site-packages/pandas/core/generic.py\u001b[0m in \u001b[0;36m_drop_axis\u001b[0;34m(self, labels, axis, level, errors)\u001b[0m\n\u001b[1;32m   3944\u001b[0m                 \u001b[0mnew_axis\u001b[0m \u001b[0;34m=\u001b[0m \u001b[0maxis\u001b[0m\u001b[0;34m.\u001b[0m\u001b[0mdrop\u001b[0m\u001b[0;34m(\u001b[0m\u001b[0mlabels\u001b[0m\u001b[0;34m,\u001b[0m \u001b[0mlevel\u001b[0m\u001b[0;34m=\u001b[0m\u001b[0mlevel\u001b[0m\u001b[0;34m,\u001b[0m \u001b[0merrors\u001b[0m\u001b[0;34m=\u001b[0m\u001b[0merrors\u001b[0m\u001b[0;34m)\u001b[0m\u001b[0;34m\u001b[0m\u001b[0;34m\u001b[0m\u001b[0m\n\u001b[1;32m   3945\u001b[0m             \u001b[0;32melse\u001b[0m\u001b[0;34m:\u001b[0m\u001b[0;34m\u001b[0m\u001b[0;34m\u001b[0m\u001b[0m\n\u001b[0;32m-> 3946\u001b[0;31m                 \u001b[0mnew_axis\u001b[0m \u001b[0;34m=\u001b[0m \u001b[0maxis\u001b[0m\u001b[0;34m.\u001b[0m\u001b[0mdrop\u001b[0m\u001b[0;34m(\u001b[0m\u001b[0mlabels\u001b[0m\u001b[0;34m,\u001b[0m \u001b[0merrors\u001b[0m\u001b[0;34m=\u001b[0m\u001b[0merrors\u001b[0m\u001b[0;34m)\u001b[0m\u001b[0;34m\u001b[0m\u001b[0;34m\u001b[0m\u001b[0m\n\u001b[0m\u001b[1;32m   3947\u001b[0m             \u001b[0mresult\u001b[0m \u001b[0;34m=\u001b[0m \u001b[0mself\u001b[0m\u001b[0;34m.\u001b[0m\u001b[0mreindex\u001b[0m\u001b[0;34m(\u001b[0m\u001b[0;34m**\u001b[0m\u001b[0;34m{\u001b[0m\u001b[0maxis_name\u001b[0m\u001b[0;34m:\u001b[0m \u001b[0mnew_axis\u001b[0m\u001b[0;34m}\u001b[0m\u001b[0;34m)\u001b[0m\u001b[0;34m\u001b[0m\u001b[0;34m\u001b[0m\u001b[0m\n\u001b[1;32m   3948\u001b[0m \u001b[0;34m\u001b[0m\u001b[0m\n",
      "\u001b[0;32m/opt/anaconda3/lib/python3.7/site-packages/pandas/core/indexes/base.py\u001b[0m in \u001b[0;36mdrop\u001b[0;34m(self, labels, errors)\u001b[0m\n\u001b[1;32m   5338\u001b[0m         \u001b[0;32mif\u001b[0m \u001b[0mmask\u001b[0m\u001b[0;34m.\u001b[0m\u001b[0many\u001b[0m\u001b[0;34m(\u001b[0m\u001b[0;34m)\u001b[0m\u001b[0;34m:\u001b[0m\u001b[0;34m\u001b[0m\u001b[0;34m\u001b[0m\u001b[0m\n\u001b[1;32m   5339\u001b[0m             \u001b[0;32mif\u001b[0m \u001b[0merrors\u001b[0m \u001b[0;34m!=\u001b[0m \u001b[0;34m\"ignore\"\u001b[0m\u001b[0;34m:\u001b[0m\u001b[0;34m\u001b[0m\u001b[0;34m\u001b[0m\u001b[0m\n\u001b[0;32m-> 5340\u001b[0;31m                 \u001b[0;32mraise\u001b[0m \u001b[0mKeyError\u001b[0m\u001b[0;34m(\u001b[0m\u001b[0;34m\"{} not found in axis\"\u001b[0m\u001b[0;34m.\u001b[0m\u001b[0mformat\u001b[0m\u001b[0;34m(\u001b[0m\u001b[0mlabels\u001b[0m\u001b[0;34m[\u001b[0m\u001b[0mmask\u001b[0m\u001b[0;34m]\u001b[0m\u001b[0;34m)\u001b[0m\u001b[0;34m)\u001b[0m\u001b[0;34m\u001b[0m\u001b[0;34m\u001b[0m\u001b[0m\n\u001b[0m\u001b[1;32m   5341\u001b[0m             \u001b[0mindexer\u001b[0m \u001b[0;34m=\u001b[0m \u001b[0mindexer\u001b[0m\u001b[0;34m[\u001b[0m\u001b[0;34m~\u001b[0m\u001b[0mmask\u001b[0m\u001b[0;34m]\u001b[0m\u001b[0;34m\u001b[0m\u001b[0;34m\u001b[0m\u001b[0m\n\u001b[1;32m   5342\u001b[0m         \u001b[0;32mreturn\u001b[0m \u001b[0mself\u001b[0m\u001b[0;34m.\u001b[0m\u001b[0mdelete\u001b[0m\u001b[0;34m(\u001b[0m\u001b[0mindexer\u001b[0m\u001b[0;34m)\u001b[0m\u001b[0;34m\u001b[0m\u001b[0;34m\u001b[0m\u001b[0m\n",
      "\u001b[0;31mKeyError\u001b[0m: \"['Declared County/Area'] not found in axis\""
     ]
    }
   ],
   "source": [
    "fl_hurriance = fl_hurriance.drop(columns='Declared County/Area')"
   ]
  },
  {
   "cell_type": "code",
   "execution_count": 156,
   "metadata": {},
   "outputs": [],
   "source": [
    "array_hurricane = fl_hurriance['county'].unique()"
   ]
  },
  {
   "cell_type": "code",
   "execution_count": 157,
   "metadata": {},
   "outputs": [],
   "source": [
    "array_income = fl_income['county'].unique()"
   ]
  },
  {
   "cell_type": "code",
   "execution_count": 158,
   "metadata": {},
   "outputs": [
    {
     "ename": "IndexError",
     "evalue": "index 68 is out of bounds for axis 0 with size 68",
     "output_type": "error",
     "traceback": [
      "\u001b[0;31m---------------------------------------------------------------------------\u001b[0m",
      "\u001b[0;31mIndexError\u001b[0m                                Traceback (most recent call last)",
      "\u001b[0;32m<ipython-input-158-04a35eb96edb>\u001b[0m in \u001b[0;36m<module>\u001b[0;34m\u001b[0m\n\u001b[1;32m      1\u001b[0m \u001b[0munwanted_counties\u001b[0m \u001b[0;34m=\u001b[0m \u001b[0;34m[\u001b[0m\u001b[0;34m]\u001b[0m\u001b[0;34m\u001b[0m\u001b[0;34m\u001b[0m\u001b[0m\n\u001b[1;32m      2\u001b[0m \u001b[0;32mfor\u001b[0m \u001b[0mi\u001b[0m \u001b[0;32min\u001b[0m \u001b[0mrange\u001b[0m\u001b[0;34m(\u001b[0m\u001b[0;36m70\u001b[0m\u001b[0;34m)\u001b[0m\u001b[0;34m:\u001b[0m\u001b[0;34m\u001b[0m\u001b[0;34m\u001b[0m\u001b[0m\n\u001b[0;32m----> 3\u001b[0;31m     \u001b[0;32mif\u001b[0m \u001b[0;34m(\u001b[0m\u001b[0msum\u001b[0m\u001b[0;34m(\u001b[0m\u001b[0marray_hurricane\u001b[0m\u001b[0;34m[\u001b[0m\u001b[0mi\u001b[0m\u001b[0;34m]\u001b[0m \u001b[0;34m==\u001b[0m \u001b[0marray_income\u001b[0m\u001b[0;34m)\u001b[0m\u001b[0;34m!=\u001b[0m \u001b[0;36m1\u001b[0m\u001b[0;34m)\u001b[0m\u001b[0;34m:\u001b[0m\u001b[0;34m\u001b[0m\u001b[0;34m\u001b[0m\u001b[0m\n\u001b[0m\u001b[1;32m      4\u001b[0m         \u001b[0munwanted_counties\u001b[0m\u001b[0;34m.\u001b[0m\u001b[0mappend\u001b[0m\u001b[0;34m(\u001b[0m\u001b[0marray_hurricane\u001b[0m\u001b[0;34m[\u001b[0m\u001b[0mi\u001b[0m\u001b[0;34m]\u001b[0m\u001b[0;34m)\u001b[0m\u001b[0;34m\u001b[0m\u001b[0;34m\u001b[0m\u001b[0m\n",
      "\u001b[0;31mIndexError\u001b[0m: index 68 is out of bounds for axis 0 with size 68"
     ]
    }
   ],
   "source": [
    "unwanted_counties = []\n",
    "for i in range(70):\n",
    "    if (sum(array_hurricane[i] == array_income)!= 1):\n",
    "        unwanted_counties.append(array_hurricane[i])"
   ]
  },
  {
   "cell_type": "code",
   "execution_count": 159,
   "metadata": {},
   "outputs": [
    {
     "data": {
      "text/plain": [
       "['dade']"
      ]
     },
     "execution_count": 159,
     "metadata": {},
     "output_type": "execute_result"
    }
   ],
   "source": [
    "unwanted_counties"
   ]
  },
  {
   "cell_type": "code",
   "execution_count": 180,
   "metadata": {},
   "outputs": [
    {
     "data": {
      "text/plain": [
       "Series([], Name: county, dtype: object)"
      ]
     },
     "execution_count": 180,
     "metadata": {},
     "output_type": "execute_result"
    }
   ],
   "source": [
    "fl_hurriance['county'].loc[fl_hurriance['county'].str.contains('reservation')]"
   ]
  },
  {
   "cell_type": "code",
   "execution_count": 181,
   "metadata": {},
   "outputs": [],
   "source": [
    "mask = fl_hurriance['county'].loc[fl_hurriance['county'].str.contains('reservation')]"
   ]
  },
  {
   "cell_type": "code",
   "execution_count": null,
   "metadata": {},
   "outputs": [],
   "source": []
  },
  {
   "cell_type": "code",
   "execution_count": 149,
   "metadata": {
    "scrolled": true
   },
   "outputs": [],
   "source": [
    "fl_hurriance = fl_hurriance.drop(labels=[918, 919, 920, 921, 922, 923, 1412])"
   ]
  },
  {
   "cell_type": "code",
   "execution_count": 179,
   "metadata": {},
   "outputs": [
    {
     "data": {
      "text/plain": [
       "Title\n",
       " HURRICANE EARL                                  6\n",
       "FL-HURRICANE IRENE-DR-REQ                       19\n",
       "HURRICANE ANDREW                                 4\n",
       "HURRICANE BETSY                                 10\n",
       "HURRICANE DENNIS                                20\n",
       "HURRICANE ELENA                                  7\n",
       "HURRICANE ERIN                                   6\n",
       "HURRICANE FLOYD EMERGENCY DECLARATIONS          12\n",
       "HURRICANE FLOYD MAJOR DISASTER DECLARATIONS     12\n",
       "HURRICANE FRANCES                               67\n",
       "HURRICANE FREDERIC                               5\n",
       "HURRICANE GEORGES                               17\n",
       "HURRICANE GLADYS                                14\n",
       "HURRICANE GRORGES                               34\n",
       "HURRICANE GUSTAV                                 6\n",
       "HURRICANE HERMINE                               26\n",
       "HURRICANE IKE                                    1\n",
       "HURRICANE IRMA                                 134\n",
       "HURRICANE ISAAC                                 12\n",
       "HURRICANE IVAN                                  45\n",
       "HURRICANE JEANNE                                53\n",
       "HURRICANE KATE                                   8\n",
       "HURRICANE KATRINA                               11\n",
       "HURRICANE KATRINA EVACUATION                    67\n",
       "HURRICANE MATTHEW                               46\n",
       "HURRICANE MICHAEL                               18\n",
       "HURRICANE NATE                                   2\n",
       "HURRICANE OPAL                                  15\n",
       "HURRICANE WILMA                                 20\n",
       "TROPICAL STORM BONNIE AND HURRICANE CHARLEY     67\n",
       "TROPICAL STORM IRENE - FLORIDA                  29\n",
       "TROPICAL STORM RITA                              4\n",
       "Name: Title, dtype: int64"
      ]
     },
     "execution_count": 179,
     "metadata": {},
     "output_type": "execute_result"
    }
   ],
   "source": [
    "fl_hurriance['Title'].groupby(by=fl_hurriance[\"Title\"]).count()"
   ]
  },
  {
   "cell_type": "code",
   "execution_count": 190,
   "metadata": {},
   "outputs": [
    {
     "data": {
      "text/html": [
       "<div>\n",
       "<style scoped>\n",
       "    .dataframe tbody tr th:only-of-type {\n",
       "        vertical-align: middle;\n",
       "    }\n",
       "\n",
       "    .dataframe tbody tr th {\n",
       "        vertical-align: top;\n",
       "    }\n",
       "\n",
       "    .dataframe thead th {\n",
       "        text-align: right;\n",
       "    }\n",
       "</style>\n",
       "<table border=\"1\" class=\"dataframe\">\n",
       "  <thead>\n",
       "    <tr style=\"text-align: right;\">\n",
       "      <th></th>\n",
       "      <th>Title</th>\n",
       "    </tr>\n",
       "    <tr>\n",
       "      <th>time</th>\n",
       "      <th></th>\n",
       "    </tr>\n",
       "  </thead>\n",
       "  <tbody>\n",
       "    <tr>\n",
       "      <th>1965Q3</th>\n",
       "      <td>10</td>\n",
       "    </tr>\n",
       "    <tr>\n",
       "      <th>1968Q4</th>\n",
       "      <td>14</td>\n",
       "    </tr>\n",
       "    <tr>\n",
       "      <th>1979Q3</th>\n",
       "      <td>5</td>\n",
       "    </tr>\n",
       "    <tr>\n",
       "      <th>1985Q3</th>\n",
       "      <td>7</td>\n",
       "    </tr>\n",
       "    <tr>\n",
       "      <th>1985Q4</th>\n",
       "      <td>8</td>\n",
       "    </tr>\n",
       "    <tr>\n",
       "      <th>1992Q3</th>\n",
       "      <td>4</td>\n",
       "    </tr>\n",
       "    <tr>\n",
       "      <th>1995Q3</th>\n",
       "      <td>6</td>\n",
       "    </tr>\n",
       "    <tr>\n",
       "      <th>1995Q4</th>\n",
       "      <td>15</td>\n",
       "    </tr>\n",
       "    <tr>\n",
       "      <th>1998Q3</th>\n",
       "      <td>57</td>\n",
       "    </tr>\n",
       "    <tr>\n",
       "      <th>1999Q3</th>\n",
       "      <td>24</td>\n",
       "    </tr>\n",
       "    <tr>\n",
       "      <th>1999Q4</th>\n",
       "      <td>48</td>\n",
       "    </tr>\n",
       "    <tr>\n",
       "      <th>2004Q3</th>\n",
       "      <td>232</td>\n",
       "    </tr>\n",
       "    <tr>\n",
       "      <th>2005Q3</th>\n",
       "      <td>102</td>\n",
       "    </tr>\n",
       "    <tr>\n",
       "      <th>2005Q4</th>\n",
       "      <td>20</td>\n",
       "    </tr>\n",
       "    <tr>\n",
       "      <th>2008Q3</th>\n",
       "      <td>7</td>\n",
       "    </tr>\n",
       "    <tr>\n",
       "      <th>2012Q3</th>\n",
       "      <td>12</td>\n",
       "    </tr>\n",
       "    <tr>\n",
       "      <th>2016Q3</th>\n",
       "      <td>26</td>\n",
       "    </tr>\n",
       "    <tr>\n",
       "      <th>2016Q4</th>\n",
       "      <td>46</td>\n",
       "    </tr>\n",
       "    <tr>\n",
       "      <th>2017Q3</th>\n",
       "      <td>134</td>\n",
       "    </tr>\n",
       "    <tr>\n",
       "      <th>2017Q4</th>\n",
       "      <td>2</td>\n",
       "    </tr>\n",
       "    <tr>\n",
       "      <th>2018Q4</th>\n",
       "      <td>18</td>\n",
       "    </tr>\n",
       "  </tbody>\n",
       "</table>\n",
       "</div>"
      ],
      "text/plain": [
       "        Title\n",
       "time         \n",
       "1965Q3     10\n",
       "1968Q4     14\n",
       "1979Q3      5\n",
       "1985Q3      7\n",
       "1985Q4      8\n",
       "1992Q3      4\n",
       "1995Q3      6\n",
       "1995Q4     15\n",
       "1998Q3     57\n",
       "1999Q3     24\n",
       "1999Q4     48\n",
       "2004Q3    232\n",
       "2005Q3    102\n",
       "2005Q4     20\n",
       "2008Q3      7\n",
       "2012Q3     12\n",
       "2016Q3     26\n",
       "2016Q4     46\n",
       "2017Q3    134\n",
       "2017Q4      2\n",
       "2018Q4     18"
      ]
     },
     "execution_count": 190,
     "metadata": {},
     "output_type": "execute_result"
    }
   ],
   "source": [
    "fl_hurriance[['Title','time']]"
   ]
  },
  {
   "cell_type": "code",
   "execution_count": 191,
   "metadata": {},
   "outputs": [],
   "source": [
    "mask = (fl_hurriance['time'] > '2003-1-1')"
   ]
  },
  {
   "cell_type": "code",
   "execution_count": 194,
   "metadata": {},
   "outputs": [],
   "source": [
    "fl_hurricane = fl_hurriance.loc[mask]"
   ]
  },
  {
   "cell_type": "code",
   "execution_count": 197,
   "metadata": {},
   "outputs": [
    {
     "data": {
      "text/plain": [
       "17"
      ]
     },
     "execution_count": 197,
     "metadata": {},
     "output_type": "execute_result"
    }
   ],
   "source": [
    "len(fl_hurricane['Title'].unique())"
   ]
  },
  {
   "cell_type": "code",
   "execution_count": 206,
   "metadata": {},
   "outputs": [],
   "source": [
    "fl_hurricane_dropdup = fl_hurricane.drop_duplicates(subset=\"Place Code\")"
   ]
  },
  {
   "cell_type": "code",
   "execution_count": 208,
   "metadata": {},
   "outputs": [
    {
     "data": {
      "text/plain": [
       "array(['2018Q4', '2017Q4', '2017Q3'], dtype=object)"
      ]
     },
     "execution_count": 208,
     "metadata": {},
     "output_type": "execute_result"
    }
   ],
   "source": [
    "fl_hurricane_dropdup['time'].unique()"
   ]
  },
  {
   "cell_type": "code",
   "execution_count": 212,
   "metadata": {},
   "outputs": [],
   "source": [
    "fl_hurricane_irma = fl_hurricane.loc[fl_hurriance['time'] == '2017Q3']"
   ]
  },
  {
   "cell_type": "code",
   "execution_count": 214,
   "metadata": {},
   "outputs": [
    {
     "data": {
      "text/plain": [
       "67"
      ]
     },
     "execution_count": 214,
     "metadata": {},
     "output_type": "execute_result"
    }
   ],
   "source": [
    "len(fl_hurricane_irma['county'].unique())"
   ]
  },
  {
   "cell_type": "code",
   "execution_count": 219,
   "metadata": {},
   "outputs": [],
   "source": [
    "fl_hurricane_irma = fl_hurricane_irma.drop_duplicates(subset='county')"
   ]
  },
  {
   "cell_type": "code",
   "execution_count": 224,
   "metadata": {},
   "outputs": [],
   "source": [
    "fl_hurricane_irma_merge = fl_hurricane_irma.drop(columns=['Place Code', 'time'])"
   ]
  },
  {
   "cell_type": "code",
   "execution_count": 225,
   "metadata": {},
   "outputs": [
    {
     "data": {
      "text/plain": [
       "Index(['Title', 'Incident Duration Days', 'county'], dtype='object')"
      ]
     },
     "execution_count": 225,
     "metadata": {},
     "output_type": "execute_result"
    }
   ],
   "source": [
    "fl_hurricane_irma_merge.columns"
   ]
  },
  {
   "cell_type": "code",
   "execution_count": 226,
   "metadata": {},
   "outputs": [
    {
     "data": {
      "text/plain": [
       "Index(['zipcode', 'tot_income', 'state', 'population', 'city', 'county'], dtype='object')"
      ]
     },
     "execution_count": 226,
     "metadata": {},
     "output_type": "execute_result"
    }
   ],
   "source": [
    "fl_income.columns"
   ]
  },
  {
   "cell_type": "code",
   "execution_count": 229,
   "metadata": {},
   "outputs": [
    {
     "data": {
      "text/html": [
       "<div>\n",
       "<style scoped>\n",
       "    .dataframe tbody tr th:only-of-type {\n",
       "        vertical-align: middle;\n",
       "    }\n",
       "\n",
       "    .dataframe tbody tr th {\n",
       "        vertical-align: top;\n",
       "    }\n",
       "\n",
       "    .dataframe thead th {\n",
       "        text-align: right;\n",
       "    }\n",
       "</style>\n",
       "<table border=\"1\" class=\"dataframe\">\n",
       "  <thead>\n",
       "    <tr style=\"text-align: right;\">\n",
       "      <th></th>\n",
       "      <th>zipcode</th>\n",
       "      <th>tot_income</th>\n",
       "      <th>state</th>\n",
       "      <th>population</th>\n",
       "      <th>city</th>\n",
       "      <th>county</th>\n",
       "    </tr>\n",
       "  </thead>\n",
       "  <tbody>\n",
       "    <tr>\n",
       "      <th>4904</th>\n",
       "      <td>32003</td>\n",
       "      <td>1143458</td>\n",
       "      <td>FL</td>\n",
       "      <td>29247</td>\n",
       "      <td>FLEMING ISLAND</td>\n",
       "      <td>clay</td>\n",
       "    </tr>\n",
       "    <tr>\n",
       "      <th>4905</th>\n",
       "      <td>32008</td>\n",
       "      <td>90021</td>\n",
       "      <td>FL</td>\n",
       "      <td>5144</td>\n",
       "      <td>BRANFORD</td>\n",
       "      <td>gilchrist</td>\n",
       "    </tr>\n",
       "    <tr>\n",
       "      <th>4906</th>\n",
       "      <td>32008</td>\n",
       "      <td>90021</td>\n",
       "      <td>FL</td>\n",
       "      <td>5144</td>\n",
       "      <td>BRANFORD</td>\n",
       "      <td>lafayette</td>\n",
       "    </tr>\n",
       "    <tr>\n",
       "      <th>4907</th>\n",
       "      <td>32008</td>\n",
       "      <td>90021</td>\n",
       "      <td>FL</td>\n",
       "      <td>5144</td>\n",
       "      <td>BRANFORD</td>\n",
       "      <td>suwannee</td>\n",
       "    </tr>\n",
       "    <tr>\n",
       "      <th>4908</th>\n",
       "      <td>32009</td>\n",
       "      <td>82188</td>\n",
       "      <td>FL</td>\n",
       "      <td>3481</td>\n",
       "      <td>BRYCEVILLE</td>\n",
       "      <td>nassau</td>\n",
       "    </tr>\n",
       "  </tbody>\n",
       "</table>\n",
       "</div>"
      ],
      "text/plain": [
       "      zipcode  tot_income state  population            city     county\n",
       "4904    32003     1143458    FL       29247  FLEMING ISLAND       clay\n",
       "4905    32008       90021    FL        5144        BRANFORD  gilchrist\n",
       "4906    32008       90021    FL        5144        BRANFORD  lafayette\n",
       "4907    32008       90021    FL        5144        BRANFORD   suwannee\n",
       "4908    32009       82188    FL        3481      BRYCEVILLE     nassau"
      ]
     },
     "execution_count": 229,
     "metadata": {},
     "output_type": "execute_result"
    }
   ],
   "source": [
    "fl_income.head()"
   ]
  },
  {
   "cell_type": "code",
   "execution_count": 231,
   "metadata": {},
   "outputs": [],
   "source": [
    "fl_income_merge = fl_income.drop(columns=['zipcode', 'state', 'city'])"
   ]
  },
  {
   "cell_type": "code",
   "execution_count": 235,
   "metadata": {
    "scrolled": true
   },
   "outputs": [
    {
     "data": {
      "text/plain": [
       "(1112, 3)"
      ]
     },
     "execution_count": 235,
     "metadata": {},
     "output_type": "execute_result"
    }
   ],
   "source": [
    "fl_income_merge.shape"
   ]
  },
  {
   "cell_type": "code",
   "execution_count": 237,
   "metadata": {},
   "outputs": [],
   "source": [
    "fl_income_merge = fl_income_merge.drop_duplicates(subset='county')"
   ]
  },
  {
   "cell_type": "code",
   "execution_count": 239,
   "metadata": {
    "scrolled": true
   },
   "outputs": [],
   "source": [
    "df = pd.merge(fl_hurricane_irma_merge, fl_income_merge, on='county')"
   ]
  },
  {
   "cell_type": "code",
   "execution_count": 240,
   "metadata": {},
   "outputs": [],
   "source": [
    "df.to_csv('fl_irma_pop_income.csv')"
   ]
  },
  {
   "cell_type": "code",
   "execution_count": null,
   "metadata": {},
   "outputs": [],
   "source": []
  }
 ],
 "metadata": {
  "kernelspec": {
   "display_name": "Python 3",
   "language": "python",
   "name": "python3"
  },
  "language_info": {
   "codemirror_mode": {
    "name": "ipython",
    "version": 3
   },
   "file_extension": ".py",
   "mimetype": "text/x-python",
   "name": "python",
   "nbconvert_exporter": "python",
   "pygments_lexer": "ipython3",
   "version": "3.7.4"
  }
 },
 "nbformat": 4,
 "nbformat_minor": 2
}
