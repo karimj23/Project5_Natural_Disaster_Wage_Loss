{
 "cells": [
  {
   "cell_type": "markdown",
   "metadata": {},
   "source": [
    "# Data Cleaning and EDA"
   ]
  },
  {
   "cell_type": "markdown",
   "metadata": {},
   "source": [
    "This notebook consists of bringing different datasets together."
   ]
  },
  {
   "cell_type": "markdown",
   "metadata": {},
   "source": [
    "### Import"
   ]
  },
  {
   "cell_type": "code",
   "execution_count": 90,
   "metadata": {},
   "outputs": [],
   "source": [
    "import pandas as pd\n",
    "import numpy as np\n",
    "import matplotlib.pyplot as plt\n",
    "\n",
    "%config InlineBackend.figure_format = 'retina'"
   ]
  },
  {
   "cell_type": "markdown",
   "metadata": {},
   "source": [
    "### Read the data needed"
   ]
  },
  {
   "cell_type": "markdown",
   "metadata": {},
   "source": [
    "Income and employment data was cleaned earlier in another data, all this data comes from Bureau of Labor Statistics and US Census Bureu websites."
   ]
  },
  {
   "cell_type": "code",
   "execution_count": 2,
   "metadata": {},
   "outputs": [],
   "source": [
    "income = pd.read_csv('../../datasets/income and population/median_income_per_state.csv')\n",
    "employment = pd.read_csv('../../datasets/income and population/employment_by_county.csv')"
   ]
  },
  {
   "cell_type": "code",
   "execution_count": 3,
   "metadata": {},
   "outputs": [],
   "source": [
    "fema_disaster = pd.read_csv('https://www.dropbox.com/s/csf8o84x2olw7n2/clean_fema_data?dl=1', index_col='Unnamed: 0')"
   ]
  },
  {
   "cell_type": "markdown",
   "metadata": {},
   "source": [
    "### Data cleaning"
   ]
  },
  {
   "cell_type": "code",
   "execution_count": 270,
   "metadata": {},
   "outputs": [
    {
     "data": {
      "text/plain": [
       "(48259, 17)"
      ]
     },
     "execution_count": 270,
     "metadata": {},
     "output_type": "execute_result"
    }
   ],
   "source": [
    "fema_disaster.shape"
   ]
  },
  {
   "cell_type": "code",
   "execution_count": 362,
   "metadata": {},
   "outputs": [
    {
     "data": {
      "text/plain": [
       "array(['TROPICAL STORM MICHAEL', 'SEVERE STORMS AND FLOODING',\n",
       "       'EARTHQUAKE', ..., 'TYPHOON & HIGH TIDES', 'HURRICANE BETSY',\n",
       "       'FLOOD'], dtype=object)"
      ]
     },
     "execution_count": 362,
     "metadata": {},
     "output_type": "execute_result"
    }
   ],
   "source": [
    "fema_disaster['Title'].unique()"
   ]
  },
  {
   "cell_type": "code",
   "execution_count": 272,
   "metadata": {},
   "outputs": [
    {
     "data": {
      "text/plain": [
       "Disaster Number                 0\n",
       "IH Program Declared             0\n",
       "IA Program Declared             0\n",
       "PA Program Declared             0\n",
       "HM Program Declared             0\n",
       "State                           0\n",
       "Declaration Date                0\n",
       "Disaster Type                   0\n",
       "Incident Type                   0\n",
       "Title                           0\n",
       "Incident Begin Date             0\n",
       "Incident End Date             338\n",
       "Place Code                      0\n",
       "Declared County/Area            0\n",
       "Declaration Request Number      0\n",
       "Incident Duration Days        338\n",
       "time                            0\n",
       "dtype: int64"
      ]
     },
     "execution_count": 272,
     "metadata": {},
     "output_type": "execute_result"
    }
   ],
   "source": [
    "fema_disaster.isnull().sum()"
   ]
  },
  {
   "cell_type": "code",
   "execution_count": 4,
   "metadata": {},
   "outputs": [
    {
     "name": "stderr",
     "output_type": "stream",
     "text": [
      "/Users/ataakca/opt/anaconda3/lib/python3.7/site-packages/pandas/core/strings.py:1843: UserWarning: This pattern has match groups. To actually get the groups, use str.extract.\n",
      "  return func(self, *args, **kwargs)\n"
     ]
    }
   ],
   "source": [
    "county_disaster = fema_disaster[(fema_disaster['Declared County/Area'].str.contains('(County)')) | (fema_disaster['Declared County/Area'].str.contains('(Parish)'))]"
   ]
  },
  {
   "cell_type": "code",
   "execution_count": 5,
   "metadata": {
    "scrolled": false
   },
   "outputs": [
    {
     "name": "stderr",
     "output_type": "stream",
     "text": [
      "/Users/ataakca/opt/anaconda3/lib/python3.7/site-packages/pandas/core/indexing.py:494: SettingWithCopyWarning: \n",
      "A value is trying to be set on a copy of a slice from a DataFrame.\n",
      "Try using .loc[row_indexer,col_indexer] = value instead\n",
      "\n",
      "See the caveats in the documentation: http://pandas.pydata.org/pandas-docs/stable/user_guide/indexing.html#returning-a-view-versus-a-copy\n",
      "  self.obj[item] = s\n"
     ]
    }
   ],
   "source": [
    "county_disaster.loc[:,'Incident Begin Date'] = pd.to_datetime(county_disaster.loc[:,'Incident Begin Date'])\n",
    "county_disaster.loc[:,'Incident End Date'] = pd.to_datetime(county_disaster.loc[:,'Incident End Date'])"
   ]
  },
  {
   "cell_type": "code",
   "execution_count": 13,
   "metadata": {},
   "outputs": [],
   "source": [
    "disasters_from_1980 = county_disaster[county_disaster['Incident Begin Date'] > '1980-01-01']\n",
    "disasters_from_1980.reset_index(drop='index', inplace=True)"
   ]
  },
  {
   "cell_type": "markdown",
   "metadata": {},
   "source": [
    "### Data cleaning and EDA"
   ]
  },
  {
   "cell_type": "code",
   "execution_count": 14,
   "metadata": {
    "scrolled": false
   },
   "outputs": [
    {
     "data": {
      "text/html": [
       "<div>\n",
       "<style scoped>\n",
       "    .dataframe tbody tr th:only-of-type {\n",
       "        vertical-align: middle;\n",
       "    }\n",
       "\n",
       "    .dataframe tbody tr th {\n",
       "        vertical-align: top;\n",
       "    }\n",
       "\n",
       "    .dataframe thead th {\n",
       "        text-align: right;\n",
       "    }\n",
       "</style>\n",
       "<table border=\"1\" class=\"dataframe\">\n",
       "  <thead>\n",
       "    <tr style=\"text-align: right;\">\n",
       "      <th></th>\n",
       "      <th>count</th>\n",
       "      <th>unique</th>\n",
       "      <th>top</th>\n",
       "      <th>freq</th>\n",
       "    </tr>\n",
       "    <tr>\n",
       "      <th>Title</th>\n",
       "      <th></th>\n",
       "      <th></th>\n",
       "      <th></th>\n",
       "      <th></th>\n",
       "    </tr>\n",
       "  </thead>\n",
       "  <tbody>\n",
       "    <tr>\n",
       "      <th>HURRICANE KATRINA EVACUATION</th>\n",
       "      <td>2559</td>\n",
       "      <td>1572</td>\n",
       "      <td>Washington (County)</td>\n",
       "      <td>23</td>\n",
       "    </tr>\n",
       "    <tr>\n",
       "      <th>SEVERE STORMS AND FLOODING</th>\n",
       "      <td>3404</td>\n",
       "      <td>1188</td>\n",
       "      <td>Washington (County)</td>\n",
       "      <td>42</td>\n",
       "    </tr>\n",
       "    <tr>\n",
       "      <th>SEVERE STORMS &amp; FLOODING</th>\n",
       "      <td>1607</td>\n",
       "      <td>815</td>\n",
       "      <td>Franklin (County)</td>\n",
       "      <td>18</td>\n",
       "    </tr>\n",
       "    <tr>\n",
       "      <th>SEVERE WINTER STORM</th>\n",
       "      <td>1851</td>\n",
       "      <td>735</td>\n",
       "      <td>Washington (County)</td>\n",
       "      <td>19</td>\n",
       "    </tr>\n",
       "    <tr>\n",
       "      <th>SEVERE STORMS, TORNADOES, AND FLOODING</th>\n",
       "      <td>1686</td>\n",
       "      <td>683</td>\n",
       "      <td>Jackson (County)</td>\n",
       "      <td>17</td>\n",
       "    </tr>\n",
       "    <tr>\n",
       "      <th>...</th>\n",
       "      <td>...</td>\n",
       "      <td>...</td>\n",
       "      <td>...</td>\n",
       "      <td>...</td>\n",
       "    </tr>\n",
       "    <tr>\n",
       "      <th>HARRAH FIRE</th>\n",
       "      <td>1</td>\n",
       "      <td>1</td>\n",
       "      <td>Oklahoma (County)</td>\n",
       "      <td>1</td>\n",
       "    </tr>\n",
       "    <tr>\n",
       "      <th>HARDY FIRE</th>\n",
       "      <td>1</td>\n",
       "      <td>1</td>\n",
       "      <td>Coconino (County)</td>\n",
       "      <td>1</td>\n",
       "    </tr>\n",
       "    <tr>\n",
       "      <th>GW FIRE</th>\n",
       "      <td>1</td>\n",
       "      <td>1</td>\n",
       "      <td>Deschutes (County)</td>\n",
       "      <td>1</td>\n",
       "    </tr>\n",
       "    <tr>\n",
       "      <th>GUYMON FIRE</th>\n",
       "      <td>1</td>\n",
       "      <td>1</td>\n",
       "      <td>Texas (County)</td>\n",
       "      <td>1</td>\n",
       "    </tr>\n",
       "    <tr>\n",
       "      <th>NEW CASTLE FIRE</th>\n",
       "      <td>1</td>\n",
       "      <td>1</td>\n",
       "      <td>McClain (County)</td>\n",
       "      <td>1</td>\n",
       "    </tr>\n",
       "  </tbody>\n",
       "</table>\n",
       "<p>1314 rows × 4 columns</p>\n",
       "</div>"
      ],
      "text/plain": [
       "                                       count unique                  top freq\n",
       "Title                                                                        \n",
       "HURRICANE KATRINA EVACUATION            2559   1572  Washington (County)   23\n",
       "SEVERE STORMS AND FLOODING              3404   1188  Washington (County)   42\n",
       "SEVERE STORMS & FLOODING                1607    815    Franklin (County)   18\n",
       "SEVERE WINTER STORM                     1851    735  Washington (County)   19\n",
       "SEVERE STORMS, TORNADOES, AND FLOODING  1686    683     Jackson (County)   17\n",
       "...                                      ...    ...                  ...  ...\n",
       "HARRAH FIRE                                1      1    Oklahoma (County)    1\n",
       "HARDY FIRE                                 1      1    Coconino (County)    1\n",
       "GW FIRE                                    1      1   Deschutes (County)    1\n",
       "GUYMON FIRE                                1      1       Texas (County)    1\n",
       "NEW CASTLE FIRE                            1      1     McClain (County)    1\n",
       "\n",
       "[1314 rows x 4 columns]"
      ]
     },
     "execution_count": 14,
     "metadata": {},
     "output_type": "execute_result"
    }
   ],
   "source": [
    "disasters_from_1980.groupby('Title')['Declared County/Area'].describe().sort_values(by='unique', ascending=False)"
   ]
  },
  {
   "cell_type": "markdown",
   "metadata": {},
   "source": [
    "#### Choosing the necessary columns from the data we have and try to form a cleaner dataframe."
   ]
  },
  {
   "cell_type": "code",
   "execution_count": 15,
   "metadata": {},
   "outputs": [],
   "source": [
    "df = disasters_from_1980[['Disaster Number', 'Disaster Type', 'Incident Type', 'Title', 'State ', 'Declared County/Area', 'Incident Duration Days', 'Incident Begin Date']]"
   ]
  },
  {
   "cell_type": "code",
   "execution_count": 16,
   "metadata": {
    "scrolled": true
   },
   "outputs": [],
   "source": [
    "df.loc[:,'Declared County/Area'] = df.loc[:,'Declared County/Area'].str.replace('(', '')\n",
    "df.loc[:,'Declared County/Area'] = df.loc[:,'Declared County/Area'].str.replace(')', '')"
   ]
  },
  {
   "cell_type": "code",
   "execution_count": 17,
   "metadata": {},
   "outputs": [
    {
     "name": "stderr",
     "output_type": "stream",
     "text": [
      "/Users/ataakca/opt/anaconda3/lib/python3.7/site-packages/pandas/core/frame.py:4238: SettingWithCopyWarning: \n",
      "A value is trying to be set on a copy of a slice from a DataFrame\n",
      "\n",
      "See the caveats in the documentation: http://pandas.pydata.org/pandas-docs/stable/user_guide/indexing.html#returning-a-view-versus-a-copy\n",
      "  return super().rename(**kwargs)\n"
     ]
    }
   ],
   "source": [
    "df.rename(columns={'Declared County/Area':'county'}, inplace=True)"
   ]
  },
  {
   "cell_type": "markdown",
   "metadata": {},
   "source": [
    "**ha_df** might not seem the most explanatory variable name, what it does is use the disaster data and merge it with the employment information on counties."
   ]
  },
  {
   "cell_type": "code",
   "execution_count": 18,
   "metadata": {},
   "outputs": [],
   "source": [
    "ha_df = pd.merge(df, employment, how='left', left_on='county', right_on='county')"
   ]
  },
  {
   "cell_type": "code",
   "execution_count": 19,
   "metadata": {
    "scrolled": true
   },
   "outputs": [
    {
     "data": {
      "text/plain": [
       "Disaster Number              0\n",
       "Disaster Type                0\n",
       "Incident Type                0\n",
       "Title                        0\n",
       "State                        0\n",
       "county                       0\n",
       "Incident Duration Days    1564\n",
       "Incident Begin Date          0\n",
       "Unnamed: 0                 707\n",
       "state                      707\n",
       "employed                   707\n",
       "dtype: int64"
      ]
     },
     "execution_count": 19,
     "metadata": {},
     "output_type": "execute_result"
    }
   ],
   "source": [
    "ha_df.isnull().sum()"
   ]
  },
  {
   "cell_type": "code",
   "execution_count": 20,
   "metadata": {},
   "outputs": [],
   "source": [
    "ha_df.drop(columns=['Unnamed: 0', 'state'], inplace=True)"
   ]
  },
  {
   "cell_type": "code",
   "execution_count": 21,
   "metadata": {},
   "outputs": [],
   "source": [
    "ha_df.dropna(inplace=True)"
   ]
  },
  {
   "cell_type": "code",
   "execution_count": 22,
   "metadata": {},
   "outputs": [
    {
     "data": {
      "text/plain": [
       "(181312, 9)"
      ]
     },
     "execution_count": 22,
     "metadata": {},
     "output_type": "execute_result"
    }
   ],
   "source": [
    "ha_df.shape"
   ]
  },
  {
   "cell_type": "code",
   "execution_count": 24,
   "metadata": {},
   "outputs": [],
   "source": [
    "ha_df['Incident Duration Days'] = ha_df['Incident Duration Days'].str.replace(' days 00:00:00.000000000','')"
   ]
  },
  {
   "cell_type": "code",
   "execution_count": 25,
   "metadata": {},
   "outputs": [],
   "source": [
    "ha_df.to_csv('../../datasets/robbie_needs_this.csv', index=False)"
   ]
  },
  {
   "cell_type": "markdown",
   "metadata": {},
   "source": [
    "After saving this dataframe, we will add new features such as average income per state."
   ]
  },
  {
   "cell_type": "code",
   "execution_count": 26,
   "metadata": {},
   "outputs": [],
   "source": [
    "income = pd.read_csv('../../datasets/income and population/median_income_per_state.csv')"
   ]
  },
  {
   "cell_type": "code",
   "execution_count": 27,
   "metadata": {},
   "outputs": [],
   "source": [
    "income.drop(columns='Unnamed: 0', inplace=True)"
   ]
  },
  {
   "cell_type": "code",
   "execution_count": 28,
   "metadata": {},
   "outputs": [],
   "source": [
    "income['avg_wage_per_hour'] = round((((income['median_income']/52)/7)/3),2)"
   ]
  },
  {
   "cell_type": "code",
   "execution_count": 29,
   "metadata": {},
   "outputs": [],
   "source": [
    "income.rename(columns={'county':'state'},inplace=True)"
   ]
  },
  {
   "cell_type": "code",
   "execution_count": 30,
   "metadata": {},
   "outputs": [],
   "source": [
    "employment['state'] = employment['state'].str.replace(' ','')"
   ]
  },
  {
   "cell_type": "code",
   "execution_count": 31,
   "metadata": {},
   "outputs": [],
   "source": [
    "states = list(employment['state'].unique())"
   ]
  },
  {
   "cell_type": "markdown",
   "metadata": {},
   "source": [
    "This is a part where I am trying to change the state names and also add the corresponding avg_wage for these states."
   ]
  },
  {
   "cell_type": "code",
   "execution_count": 32,
   "metadata": {
    "scrolled": true
   },
   "outputs": [],
   "source": [
    "for i in range(len(states)):\n",
    "    income_state = income.iloc[i]['state']\n",
    "    income['state'] = income['state'].str.replace(income_state,states[i])"
   ]
  },
  {
   "cell_type": "code",
   "execution_count": 33,
   "metadata": {},
   "outputs": [],
   "source": [
    "income['state'] = income['state'].str.replace('DisctrictofColumbia','Disctrict of Columbia')"
   ]
  },
  {
   "cell_type": "code",
   "execution_count": 34,
   "metadata": {},
   "outputs": [],
   "source": [
    "clean = pd.merge(ha_df, income, how='left', left_on='State ', right_on='state')"
   ]
  },
  {
   "cell_type": "code",
   "execution_count": 35,
   "metadata": {},
   "outputs": [],
   "source": [
    "clean.drop(columns=['state','median_income'],inplace=True)"
   ]
  },
  {
   "cell_type": "code",
   "execution_count": 36,
   "metadata": {},
   "outputs": [],
   "source": [
    "clean.to_csv('../../datasets/important_data.csv')"
   ]
  },
  {
   "cell_type": "markdown",
   "metadata": {},
   "source": [
    "Always save your work."
   ]
  },
  {
   "cell_type": "markdown",
   "metadata": {},
   "source": [
    "# REWORK"
   ]
  },
  {
   "cell_type": "markdown",
   "metadata": {},
   "source": [
    "This part of the code was added after we have figured what to do in the model we formed. It is designed to be as compatible as possible to the ARIMA model."
   ]
  },
  {
   "cell_type": "code",
   "execution_count": 38,
   "metadata": {},
   "outputs": [
    {
     "data": {
      "text/html": [
       "<div>\n",
       "<style scoped>\n",
       "    .dataframe tbody tr th:only-of-type {\n",
       "        vertical-align: middle;\n",
       "    }\n",
       "\n",
       "    .dataframe tbody tr th {\n",
       "        vertical-align: top;\n",
       "    }\n",
       "\n",
       "    .dataframe thead th {\n",
       "        text-align: right;\n",
       "    }\n",
       "</style>\n",
       "<table border=\"1\" class=\"dataframe\">\n",
       "  <thead>\n",
       "    <tr style=\"text-align: right;\">\n",
       "      <th></th>\n",
       "      <th>Disaster Number</th>\n",
       "      <th>Disaster Type</th>\n",
       "      <th>Incident Type</th>\n",
       "      <th>Title</th>\n",
       "      <th>State</th>\n",
       "      <th>county</th>\n",
       "      <th>Incident Duration Days</th>\n",
       "      <th>Incident Begin Date</th>\n",
       "      <th>employed</th>\n",
       "      <th>avg_wage_per_hour</th>\n",
       "    </tr>\n",
       "  </thead>\n",
       "  <tbody>\n",
       "    <tr>\n",
       "      <th>0</th>\n",
       "      <td>4411.0</td>\n",
       "      <td>DR</td>\n",
       "      <td>Hurricane</td>\n",
       "      <td>TROPICAL STORM MICHAEL</td>\n",
       "      <td>VA</td>\n",
       "      <td>Amelia County</td>\n",
       "      <td>7</td>\n",
       "      <td>2018-10-09</td>\n",
       "      <td>6328.0</td>\n",
       "      <td>55.66</td>\n",
       "    </tr>\n",
       "    <tr>\n",
       "      <th>1</th>\n",
       "      <td>4411.0</td>\n",
       "      <td>DR</td>\n",
       "      <td>Hurricane</td>\n",
       "      <td>TROPICAL STORM MICHAEL</td>\n",
       "      <td>VA</td>\n",
       "      <td>Appomattox County</td>\n",
       "      <td>7</td>\n",
       "      <td>2018-10-09</td>\n",
       "      <td>7032.0</td>\n",
       "      <td>55.66</td>\n",
       "    </tr>\n",
       "    <tr>\n",
       "      <th>2</th>\n",
       "      <td>4411.0</td>\n",
       "      <td>DR</td>\n",
       "      <td>Hurricane</td>\n",
       "      <td>TROPICAL STORM MICHAEL</td>\n",
       "      <td>VA</td>\n",
       "      <td>Brunswick County</td>\n",
       "      <td>7</td>\n",
       "      <td>2018-10-09</td>\n",
       "      <td>51264.0</td>\n",
       "      <td>55.66</td>\n",
       "    </tr>\n",
       "    <tr>\n",
       "      <th>3</th>\n",
       "      <td>4411.0</td>\n",
       "      <td>DR</td>\n",
       "      <td>Hurricane</td>\n",
       "      <td>TROPICAL STORM MICHAEL</td>\n",
       "      <td>VA</td>\n",
       "      <td>Brunswick County</td>\n",
       "      <td>7</td>\n",
       "      <td>2018-10-09</td>\n",
       "      <td>5736.0</td>\n",
       "      <td>55.66</td>\n",
       "    </tr>\n",
       "    <tr>\n",
       "      <th>4</th>\n",
       "      <td>4411.0</td>\n",
       "      <td>DR</td>\n",
       "      <td>Hurricane</td>\n",
       "      <td>TROPICAL STORM MICHAEL</td>\n",
       "      <td>VA</td>\n",
       "      <td>Campbell County</td>\n",
       "      <td>7</td>\n",
       "      <td>2018-10-09</td>\n",
       "      <td>50068.0</td>\n",
       "      <td>55.66</td>\n",
       "    </tr>\n",
       "  </tbody>\n",
       "</table>\n",
       "</div>"
      ],
      "text/plain": [
       "   Disaster Number Disaster Type Incident Type                   Title State   \\\n",
       "0           4411.0            DR     Hurricane  TROPICAL STORM MICHAEL     VA   \n",
       "1           4411.0            DR     Hurricane  TROPICAL STORM MICHAEL     VA   \n",
       "2           4411.0            DR     Hurricane  TROPICAL STORM MICHAEL     VA   \n",
       "3           4411.0            DR     Hurricane  TROPICAL STORM MICHAEL     VA   \n",
       "4           4411.0            DR     Hurricane  TROPICAL STORM MICHAEL     VA   \n",
       "\n",
       "              county Incident Duration Days Incident Begin Date  employed  \\\n",
       "0      Amelia County                      7          2018-10-09    6328.0   \n",
       "1  Appomattox County                      7          2018-10-09    7032.0   \n",
       "2   Brunswick County                      7          2018-10-09   51264.0   \n",
       "3   Brunswick County                      7          2018-10-09    5736.0   \n",
       "4    Campbell County                      7          2018-10-09   50068.0   \n",
       "\n",
       "   avg_wage_per_hour  \n",
       "0              55.66  \n",
       "1              55.66  \n",
       "2              55.66  \n",
       "3              55.66  \n",
       "4              55.66  "
      ]
     },
     "execution_count": 38,
     "metadata": {},
     "output_type": "execute_result"
    }
   ],
   "source": [
    "clean.head()"
   ]
  },
  {
   "cell_type": "code",
   "execution_count": 39,
   "metadata": {},
   "outputs": [],
   "source": [
    "hurricanes = clean[clean['Title'].str.contains('HURRICANE')].groupby('Disaster Number').agg({'employed':'sum'})"
   ]
  },
  {
   "cell_type": "code",
   "execution_count": 40,
   "metadata": {},
   "outputs": [
    {
     "data": {
      "text/html": [
       "<div>\n",
       "<style scoped>\n",
       "    .dataframe tbody tr th:only-of-type {\n",
       "        vertical-align: middle;\n",
       "    }\n",
       "\n",
       "    .dataframe tbody tr th {\n",
       "        vertical-align: top;\n",
       "    }\n",
       "\n",
       "    .dataframe thead th {\n",
       "        text-align: right;\n",
       "    }\n",
       "</style>\n",
       "<table border=\"1\" class=\"dataframe\">\n",
       "  <thead>\n",
       "    <tr style=\"text-align: right;\">\n",
       "      <th></th>\n",
       "      <th>employed</th>\n",
       "    </tr>\n",
       "    <tr>\n",
       "      <th>Disaster Number</th>\n",
       "      <th></th>\n",
       "    </tr>\n",
       "  </thead>\n",
       "  <tbody>\n",
       "    <tr>\n",
       "      <th>627.0</th>\n",
       "      <td>1236581.0</td>\n",
       "    </tr>\n",
       "    <tr>\n",
       "      <th>689.0</th>\n",
       "      <td>4994880.0</td>\n",
       "    </tr>\n",
       "    <tr>\n",
       "      <th>724.0</th>\n",
       "      <td>272006.0</td>\n",
       "    </tr>\n",
       "    <tr>\n",
       "      <th>741.0</th>\n",
       "      <td>1064955.0</td>\n",
       "    </tr>\n",
       "    <tr>\n",
       "      <th>742.0</th>\n",
       "      <td>294460.0</td>\n",
       "    </tr>\n",
       "  </tbody>\n",
       "</table>\n",
       "</div>"
      ],
      "text/plain": [
       "                  employed\n",
       "Disaster Number           \n",
       "627.0            1236581.0\n",
       "689.0            4994880.0\n",
       "724.0             272006.0\n",
       "741.0            1064955.0\n",
       "742.0             294460.0"
      ]
     },
     "execution_count": 40,
     "metadata": {},
     "output_type": "execute_result"
    }
   ],
   "source": [
    "hurricanes.head()"
   ]
  },
  {
   "cell_type": "code",
   "execution_count": 41,
   "metadata": {},
   "outputs": [],
   "source": [
    "hurricanes.reset_index(inplace=True)"
   ]
  },
  {
   "cell_type": "code",
   "execution_count": 42,
   "metadata": {},
   "outputs": [],
   "source": [
    "cc = clean[['Disaster Number','Title','Disaster Type','State ', 'Incident Duration Days', 'Incident Begin Date']]"
   ]
  },
  {
   "cell_type": "code",
   "execution_count": 47,
   "metadata": {},
   "outputs": [
    {
     "data": {
      "text/html": [
       "<div>\n",
       "<style scoped>\n",
       "    .dataframe tbody tr th:only-of-type {\n",
       "        vertical-align: middle;\n",
       "    }\n",
       "\n",
       "    .dataframe tbody tr th {\n",
       "        vertical-align: top;\n",
       "    }\n",
       "\n",
       "    .dataframe thead th {\n",
       "        text-align: right;\n",
       "    }\n",
       "</style>\n",
       "<table border=\"1\" class=\"dataframe\">\n",
       "  <thead>\n",
       "    <tr style=\"text-align: right;\">\n",
       "      <th></th>\n",
       "      <th>Disaster Number</th>\n",
       "      <th>Title</th>\n",
       "      <th>Disaster Type</th>\n",
       "      <th>State</th>\n",
       "      <th>Incident Duration Days</th>\n",
       "      <th>Incident Begin Date</th>\n",
       "    </tr>\n",
       "  </thead>\n",
       "  <tbody>\n",
       "    <tr>\n",
       "      <th>0</th>\n",
       "      <td>4411.0</td>\n",
       "      <td>TROPICAL STORM MICHAEL</td>\n",
       "      <td>DR</td>\n",
       "      <td>VA</td>\n",
       "      <td>7</td>\n",
       "      <td>2018-10-09</td>\n",
       "    </tr>\n",
       "    <tr>\n",
       "      <th>1</th>\n",
       "      <td>4411.0</td>\n",
       "      <td>TROPICAL STORM MICHAEL</td>\n",
       "      <td>DR</td>\n",
       "      <td>VA</td>\n",
       "      <td>7</td>\n",
       "      <td>2018-10-09</td>\n",
       "    </tr>\n",
       "    <tr>\n",
       "      <th>2</th>\n",
       "      <td>4411.0</td>\n",
       "      <td>TROPICAL STORM MICHAEL</td>\n",
       "      <td>DR</td>\n",
       "      <td>VA</td>\n",
       "      <td>7</td>\n",
       "      <td>2018-10-09</td>\n",
       "    </tr>\n",
       "    <tr>\n",
       "      <th>3</th>\n",
       "      <td>4411.0</td>\n",
       "      <td>TROPICAL STORM MICHAEL</td>\n",
       "      <td>DR</td>\n",
       "      <td>VA</td>\n",
       "      <td>7</td>\n",
       "      <td>2018-10-09</td>\n",
       "    </tr>\n",
       "    <tr>\n",
       "      <th>4</th>\n",
       "      <td>4411.0</td>\n",
       "      <td>TROPICAL STORM MICHAEL</td>\n",
       "      <td>DR</td>\n",
       "      <td>VA</td>\n",
       "      <td>7</td>\n",
       "      <td>2018-10-09</td>\n",
       "    </tr>\n",
       "  </tbody>\n",
       "</table>\n",
       "</div>"
      ],
      "text/plain": [
       "   Disaster Number                   Title Disaster Type State   \\\n",
       "0           4411.0  TROPICAL STORM MICHAEL            DR     VA   \n",
       "1           4411.0  TROPICAL STORM MICHAEL            DR     VA   \n",
       "2           4411.0  TROPICAL STORM MICHAEL            DR     VA   \n",
       "3           4411.0  TROPICAL STORM MICHAEL            DR     VA   \n",
       "4           4411.0  TROPICAL STORM MICHAEL            DR     VA   \n",
       "\n",
       "  Incident Duration Days Incident Begin Date  \n",
       "0                      7          2018-10-09  \n",
       "1                      7          2018-10-09  \n",
       "2                      7          2018-10-09  \n",
       "3                      7          2018-10-09  \n",
       "4                      7          2018-10-09  "
      ]
     },
     "execution_count": 47,
     "metadata": {},
     "output_type": "execute_result"
    }
   ],
   "source": [
    "cc.head()"
   ]
  },
  {
   "cell_type": "code",
   "execution_count": 43,
   "metadata": {},
   "outputs": [],
   "source": [
    "hurricane_pop = pd.merge(hurricanes, cc, how='left', left_on='Disaster Number', right_on='Disaster Number')"
   ]
  },
  {
   "cell_type": "code",
   "execution_count": 45,
   "metadata": {},
   "outputs": [],
   "source": [
    "hurricane_pop.drop_duplicates(inplace=True)"
   ]
  },
  {
   "cell_type": "code",
   "execution_count": 48,
   "metadata": {},
   "outputs": [],
   "source": [
    "hurricane_pop[hurricane_pop['Title'].str.contains('IRMA')];"
   ]
  },
  {
   "cell_type": "code",
   "execution_count": 49,
   "metadata": {},
   "outputs": [],
   "source": [
    "hurr_pop_inc = pd.merge(hurricane_pop, income, how='left', left_on='State ', right_on='state')"
   ]
  },
  {
   "cell_type": "code",
   "execution_count": 50,
   "metadata": {},
   "outputs": [],
   "source": [
    "hurr_pop_inc.drop(columns=['median_income','State '], inplace=True)"
   ]
  },
  {
   "cell_type": "code",
   "execution_count": 51,
   "metadata": {},
   "outputs": [
    {
     "data": {
      "text/html": [
       "<div>\n",
       "<style scoped>\n",
       "    .dataframe tbody tr th:only-of-type {\n",
       "        vertical-align: middle;\n",
       "    }\n",
       "\n",
       "    .dataframe tbody tr th {\n",
       "        vertical-align: top;\n",
       "    }\n",
       "\n",
       "    .dataframe thead th {\n",
       "        text-align: right;\n",
       "    }\n",
       "</style>\n",
       "<table border=\"1\" class=\"dataframe\">\n",
       "  <thead>\n",
       "    <tr style=\"text-align: right;\">\n",
       "      <th></th>\n",
       "      <th>Disaster Number</th>\n",
       "      <th>employed</th>\n",
       "      <th>Title</th>\n",
       "      <th>Disaster Type</th>\n",
       "      <th>Incident Duration Days</th>\n",
       "      <th>Incident Begin Date</th>\n",
       "      <th>state</th>\n",
       "      <th>avg_wage_per_hour</th>\n",
       "    </tr>\n",
       "  </thead>\n",
       "  <tbody>\n",
       "    <tr>\n",
       "      <th>0</th>\n",
       "      <td>627.0</td>\n",
       "      <td>1236581.0</td>\n",
       "      <td>HURRICANE ALLEN</td>\n",
       "      <td>DR</td>\n",
       "      <td>0</td>\n",
       "      <td>1980-08-11</td>\n",
       "      <td>TX</td>\n",
       "      <td>47.96</td>\n",
       "    </tr>\n",
       "    <tr>\n",
       "      <th>1</th>\n",
       "      <td>689.0</td>\n",
       "      <td>4994880.0</td>\n",
       "      <td>HURRICANE ALICIA</td>\n",
       "      <td>DR</td>\n",
       "      <td>2</td>\n",
       "      <td>1983-08-18</td>\n",
       "      <td>TX</td>\n",
       "      <td>47.96</td>\n",
       "    </tr>\n",
       "    <tr>\n",
       "      <th>2</th>\n",
       "      <td>724.0</td>\n",
       "      <td>272006.0</td>\n",
       "      <td>HURRICANE DIANA</td>\n",
       "      <td>DR</td>\n",
       "      <td>0</td>\n",
       "      <td>1984-09-11</td>\n",
       "      <td>NC</td>\n",
       "      <td>49.32</td>\n",
       "    </tr>\n",
       "    <tr>\n",
       "      <th>3</th>\n",
       "      <td>741.0</td>\n",
       "      <td>1064955.0</td>\n",
       "      <td>HURRICANE ELENA</td>\n",
       "      <td>DR</td>\n",
       "      <td>6</td>\n",
       "      <td>1985-08-29</td>\n",
       "      <td>MS</td>\n",
       "      <td>40.95</td>\n",
       "    </tr>\n",
       "    <tr>\n",
       "      <th>4</th>\n",
       "      <td>742.0</td>\n",
       "      <td>294460.0</td>\n",
       "      <td>HURRICANE ELENA</td>\n",
       "      <td>DR</td>\n",
       "      <td>4</td>\n",
       "      <td>1985-08-29</td>\n",
       "      <td>AL</td>\n",
       "      <td>45.66</td>\n",
       "    </tr>\n",
       "  </tbody>\n",
       "</table>\n",
       "</div>"
      ],
      "text/plain": [
       "   Disaster Number   employed             Title Disaster Type  \\\n",
       "0            627.0  1236581.0   HURRICANE ALLEN            DR   \n",
       "1            689.0  4994880.0  HURRICANE ALICIA            DR   \n",
       "2            724.0   272006.0   HURRICANE DIANA            DR   \n",
       "3            741.0  1064955.0   HURRICANE ELENA            DR   \n",
       "4            742.0   294460.0   HURRICANE ELENA            DR   \n",
       "\n",
       "  Incident Duration Days Incident Begin Date state  avg_wage_per_hour  \n",
       "0                      0          1980-08-11    TX              47.96  \n",
       "1                      2          1983-08-18    TX              47.96  \n",
       "2                      0          1984-09-11    NC              49.32  \n",
       "3                      6          1985-08-29    MS              40.95  \n",
       "4                      4          1985-08-29    AL              45.66  "
      ]
     },
     "execution_count": 51,
     "metadata": {},
     "output_type": "execute_result"
    }
   ],
   "source": [
    "hurr_pop_inc.head()"
   ]
  },
  {
   "cell_type": "code",
   "execution_count": 52,
   "metadata": {},
   "outputs": [],
   "source": [
    "hurr_pop_inc = hurr_pop_inc[['Disaster Number', 'Title', 'Disaster Type', 'Incident Begin Date', 'Incident Duration Days', 'state', 'employed', 'avg_wage_per_hour']]"
   ]
  },
  {
   "cell_type": "code",
   "execution_count": 53,
   "metadata": {},
   "outputs": [],
   "source": [
    "hurr_pop_inc['Title'] = hurr_pop_inc['Title'].str.replace('HURRICANE ','')"
   ]
  },
  {
   "cell_type": "code",
   "execution_count": 54,
   "metadata": {},
   "outputs": [
    {
     "data": {
      "text/html": [
       "<div>\n",
       "<style scoped>\n",
       "    .dataframe tbody tr th:only-of-type {\n",
       "        vertical-align: middle;\n",
       "    }\n",
       "\n",
       "    .dataframe tbody tr th {\n",
       "        vertical-align: top;\n",
       "    }\n",
       "\n",
       "    .dataframe thead th {\n",
       "        text-align: right;\n",
       "    }\n",
       "</style>\n",
       "<table border=\"1\" class=\"dataframe\">\n",
       "  <thead>\n",
       "    <tr style=\"text-align: right;\">\n",
       "      <th></th>\n",
       "      <th>Disaster Number</th>\n",
       "      <th>Title</th>\n",
       "      <th>Disaster Type</th>\n",
       "      <th>Incident Begin Date</th>\n",
       "      <th>Incident Duration Days</th>\n",
       "      <th>state</th>\n",
       "      <th>employed</th>\n",
       "      <th>avg_wage_per_hour</th>\n",
       "    </tr>\n",
       "  </thead>\n",
       "  <tbody>\n",
       "    <tr>\n",
       "      <th>0</th>\n",
       "      <td>627.0</td>\n",
       "      <td>ALLEN</td>\n",
       "      <td>DR</td>\n",
       "      <td>1980-08-11</td>\n",
       "      <td>0</td>\n",
       "      <td>TX</td>\n",
       "      <td>1236581.0</td>\n",
       "      <td>47.96</td>\n",
       "    </tr>\n",
       "    <tr>\n",
       "      <th>1</th>\n",
       "      <td>689.0</td>\n",
       "      <td>ALICIA</td>\n",
       "      <td>DR</td>\n",
       "      <td>1983-08-18</td>\n",
       "      <td>2</td>\n",
       "      <td>TX</td>\n",
       "      <td>4994880.0</td>\n",
       "      <td>47.96</td>\n",
       "    </tr>\n",
       "    <tr>\n",
       "      <th>2</th>\n",
       "      <td>724.0</td>\n",
       "      <td>DIANA</td>\n",
       "      <td>DR</td>\n",
       "      <td>1984-09-11</td>\n",
       "      <td>0</td>\n",
       "      <td>NC</td>\n",
       "      <td>272006.0</td>\n",
       "      <td>49.32</td>\n",
       "    </tr>\n",
       "    <tr>\n",
       "      <th>3</th>\n",
       "      <td>741.0</td>\n",
       "      <td>ELENA</td>\n",
       "      <td>DR</td>\n",
       "      <td>1985-08-29</td>\n",
       "      <td>6</td>\n",
       "      <td>MS</td>\n",
       "      <td>1064955.0</td>\n",
       "      <td>40.95</td>\n",
       "    </tr>\n",
       "    <tr>\n",
       "      <th>4</th>\n",
       "      <td>742.0</td>\n",
       "      <td>ELENA</td>\n",
       "      <td>DR</td>\n",
       "      <td>1985-08-29</td>\n",
       "      <td>4</td>\n",
       "      <td>AL</td>\n",
       "      <td>294460.0</td>\n",
       "      <td>45.66</td>\n",
       "    </tr>\n",
       "  </tbody>\n",
       "</table>\n",
       "</div>"
      ],
      "text/plain": [
       "   Disaster Number   Title Disaster Type Incident Begin Date  \\\n",
       "0            627.0   ALLEN            DR          1980-08-11   \n",
       "1            689.0  ALICIA            DR          1983-08-18   \n",
       "2            724.0   DIANA            DR          1984-09-11   \n",
       "3            741.0   ELENA            DR          1985-08-29   \n",
       "4            742.0   ELENA            DR          1985-08-29   \n",
       "\n",
       "  Incident Duration Days state   employed  avg_wage_per_hour  \n",
       "0                      0    TX  1236581.0              47.96  \n",
       "1                      2    TX  4994880.0              47.96  \n",
       "2                      0    NC   272006.0              49.32  \n",
       "3                      6    MS  1064955.0              40.95  \n",
       "4                      4    AL   294460.0              45.66  "
      ]
     },
     "execution_count": 54,
     "metadata": {},
     "output_type": "execute_result"
    }
   ],
   "source": [
    "hurr_pop_inc.head()"
   ]
  },
  {
   "cell_type": "code",
   "execution_count": 55,
   "metadata": {},
   "outputs": [],
   "source": [
    "hurr_pop_inc.to_csv('../../datasets/rework_data.csv')"
   ]
  },
  {
   "cell_type": "markdown",
   "metadata": {},
   "source": [
    "# Smaller Dataframe"
   ]
  },
  {
   "cell_type": "code",
   "execution_count": 58,
   "metadata": {},
   "outputs": [
    {
     "data": {
      "text/html": [
       "<div>\n",
       "<style scoped>\n",
       "    .dataframe tbody tr th:only-of-type {\n",
       "        vertical-align: middle;\n",
       "    }\n",
       "\n",
       "    .dataframe tbody tr th {\n",
       "        vertical-align: top;\n",
       "    }\n",
       "\n",
       "    .dataframe thead th {\n",
       "        text-align: right;\n",
       "    }\n",
       "</style>\n",
       "<table border=\"1\" class=\"dataframe\">\n",
       "  <thead>\n",
       "    <tr style=\"text-align: right;\">\n",
       "      <th></th>\n",
       "      <th>Disaster Number</th>\n",
       "      <th>Title</th>\n",
       "      <th>Disaster Type</th>\n",
       "      <th>Incident Begin Date</th>\n",
       "      <th>Incident Duration Days</th>\n",
       "      <th>state</th>\n",
       "      <th>employed</th>\n",
       "      <th>avg_wage_per_hour</th>\n",
       "    </tr>\n",
       "  </thead>\n",
       "  <tbody>\n",
       "    <tr>\n",
       "      <th>193</th>\n",
       "      <td>3385.0</td>\n",
       "      <td>IRMA</td>\n",
       "      <td>EM</td>\n",
       "      <td>2017-09-04</td>\n",
       "      <td>44</td>\n",
       "      <td>FL</td>\n",
       "      <td>24120143.0</td>\n",
       "      <td>50.79</td>\n",
       "    </tr>\n",
       "    <tr>\n",
       "      <th>194</th>\n",
       "      <td>3386.0</td>\n",
       "      <td>IRMA</td>\n",
       "      <td>EM</td>\n",
       "      <td>2017-09-06</td>\n",
       "      <td>7</td>\n",
       "      <td>SC</td>\n",
       "      <td>7004777.0</td>\n",
       "      <td>58.92</td>\n",
       "    </tr>\n",
       "    <tr>\n",
       "      <th>195</th>\n",
       "      <td>3387.0</td>\n",
       "      <td>IRMA</td>\n",
       "      <td>EM</td>\n",
       "      <td>2017-09-07</td>\n",
       "      <td>13</td>\n",
       "      <td>GA</td>\n",
       "      <td>29949322.0</td>\n",
       "      <td>53.81</td>\n",
       "    </tr>\n",
       "    <tr>\n",
       "      <th>196</th>\n",
       "      <td>3389.0</td>\n",
       "      <td>IRMA</td>\n",
       "      <td>EM</td>\n",
       "      <td>2017-09-08</td>\n",
       "      <td>6</td>\n",
       "      <td>AL</td>\n",
       "      <td>17517162.0</td>\n",
       "      <td>45.66</td>\n",
       "    </tr>\n",
       "    <tr>\n",
       "      <th>233</th>\n",
       "      <td>4337.0</td>\n",
       "      <td>IRMA</td>\n",
       "      <td>DR</td>\n",
       "      <td>2017-09-04</td>\n",
       "      <td>44</td>\n",
       "      <td>FL</td>\n",
       "      <td>24120143.0</td>\n",
       "      <td>50.79</td>\n",
       "    </tr>\n",
       "    <tr>\n",
       "      <th>234</th>\n",
       "      <td>4338.0</td>\n",
       "      <td>IRMA</td>\n",
       "      <td>DR</td>\n",
       "      <td>2017-09-07</td>\n",
       "      <td>13</td>\n",
       "      <td>GA</td>\n",
       "      <td>29949322.0</td>\n",
       "      <td>53.81</td>\n",
       "    </tr>\n",
       "    <tr>\n",
       "      <th>235</th>\n",
       "      <td>4346.0</td>\n",
       "      <td>IRMA</td>\n",
       "      <td>DR</td>\n",
       "      <td>2017-09-06</td>\n",
       "      <td>7</td>\n",
       "      <td>SC</td>\n",
       "      <td>7004777.0</td>\n",
       "      <td>58.92</td>\n",
       "    </tr>\n",
       "  </tbody>\n",
       "</table>\n",
       "</div>"
      ],
      "text/plain": [
       "     Disaster Number Title Disaster Type Incident Begin Date  \\\n",
       "193           3385.0  IRMA            EM          2017-09-04   \n",
       "194           3386.0  IRMA            EM          2017-09-06   \n",
       "195           3387.0  IRMA            EM          2017-09-07   \n",
       "196           3389.0  IRMA            EM          2017-09-08   \n",
       "233           4337.0  IRMA            DR          2017-09-04   \n",
       "234           4338.0  IRMA            DR          2017-09-07   \n",
       "235           4346.0  IRMA            DR          2017-09-06   \n",
       "\n",
       "    Incident Duration Days state    employed  avg_wage_per_hour  \n",
       "193                     44    FL  24120143.0              50.79  \n",
       "194                      7    SC   7004777.0              58.92  \n",
       "195                     13    GA  29949322.0              53.81  \n",
       "196                      6    AL  17517162.0              45.66  \n",
       "233                     44    FL  24120143.0              50.79  \n",
       "234                     13    GA  29949322.0              53.81  \n",
       "235                      7    SC   7004777.0              58.92  "
      ]
     },
     "execution_count": 58,
     "metadata": {},
     "output_type": "execute_result"
    }
   ],
   "source": [
    "hurr_pop_inc[hurr_pop_inc['Title'] == 'IRMA']"
   ]
  },
  {
   "cell_type": "code",
   "execution_count": 63,
   "metadata": {},
   "outputs": [],
   "source": [
    "emergency_declarations = hurr_pop_inc[hurr_pop_inc['Disaster Type'].str.contains('EM')].groupby('Title').sum().sort_values(by='employed', ascending=False).head(10)"
   ]
  },
  {
   "cell_type": "code",
   "execution_count": 64,
   "metadata": {},
   "outputs": [],
   "source": [
    "major_disaster = hurr_pop_inc[hurr_pop_inc['Disaster Type'].str.contains('DR')].groupby('Title').sum().sort_values(by='employed', ascending=False).head(10)"
   ]
  },
  {
   "cell_type": "markdown",
   "metadata": {},
   "source": [
    "Checking "
   ]
  },
  {
   "cell_type": "code",
   "execution_count": 65,
   "metadata": {},
   "outputs": [
    {
     "data": {
      "text/html": [
       "<div>\n",
       "<style scoped>\n",
       "    .dataframe tbody tr th:only-of-type {\n",
       "        vertical-align: middle;\n",
       "    }\n",
       "\n",
       "    .dataframe tbody tr th {\n",
       "        vertical-align: top;\n",
       "    }\n",
       "\n",
       "    .dataframe thead th {\n",
       "        text-align: right;\n",
       "    }\n",
       "</style>\n",
       "<table border=\"1\" class=\"dataframe\">\n",
       "  <thead>\n",
       "    <tr style=\"text-align: right;\">\n",
       "      <th></th>\n",
       "      <th>Disaster Number</th>\n",
       "      <th>employed</th>\n",
       "      <th>avg_wage_per_hour</th>\n",
       "    </tr>\n",
       "    <tr>\n",
       "      <th>Title</th>\n",
       "      <th></th>\n",
       "      <th></th>\n",
       "      <th></th>\n",
       "    </tr>\n",
       "  </thead>\n",
       "  <tbody>\n",
       "    <tr>\n",
       "      <th>KATRINA EVACUATION</th>\n",
       "      <td>129496.0</td>\n",
       "      <td>532963237.0</td>\n",
       "      <td>2225.74</td>\n",
       "    </tr>\n",
       "    <tr>\n",
       "      <th>SANDY</th>\n",
       "      <td>36902.0</td>\n",
       "      <td>92105535.0</td>\n",
       "      <td>682.11</td>\n",
       "    </tr>\n",
       "    <tr>\n",
       "      <th>IRMA</th>\n",
       "      <td>13547.0</td>\n",
       "      <td>78591404.0</td>\n",
       "      <td>209.18</td>\n",
       "    </tr>\n",
       "    <tr>\n",
       "      <th>GUSTAV</th>\n",
       "      <td>13162.0</td>\n",
       "      <td>55689719.0</td>\n",
       "      <td>178.44</td>\n",
       "    </tr>\n",
       "    <tr>\n",
       "      <th>IRENE</th>\n",
       "      <td>36659.0</td>\n",
       "      <td>50842300.0</td>\n",
       "      <td>660.33</td>\n",
       "    </tr>\n",
       "    <tr>\n",
       "      <th>KATRINA</th>\n",
       "      <td>6466.0</td>\n",
       "      <td>42219211.0</td>\n",
       "      <td>101.78</td>\n",
       "    </tr>\n",
       "    <tr>\n",
       "      <th>FLOYD EMERGENCY DECLARATIONS</th>\n",
       "      <td>22022.0</td>\n",
       "      <td>37612300.0</td>\n",
       "      <td>405.48</td>\n",
       "    </tr>\n",
       "    <tr>\n",
       "      <th>RITA</th>\n",
       "      <td>6521.0</td>\n",
       "      <td>37503808.0</td>\n",
       "      <td>91.83</td>\n",
       "    </tr>\n",
       "    <tr>\n",
       "      <th>MATTHEW</th>\n",
       "      <td>13514.0</td>\n",
       "      <td>36689253.0</td>\n",
       "      <td>212.84</td>\n",
       "    </tr>\n",
       "    <tr>\n",
       "      <th>IKE</th>\n",
       "      <td>9882.0</td>\n",
       "      <td>24272947.0</td>\n",
       "      <td>142.62</td>\n",
       "    </tr>\n",
       "  </tbody>\n",
       "</table>\n",
       "</div>"
      ],
      "text/plain": [
       "                              Disaster Number     employed  avg_wage_per_hour\n",
       "Title                                                                        \n",
       "KATRINA EVACUATION                   129496.0  532963237.0            2225.74\n",
       "SANDY                                 36902.0   92105535.0             682.11\n",
       "IRMA                                  13547.0   78591404.0             209.18\n",
       "GUSTAV                                13162.0   55689719.0             178.44\n",
       "IRENE                                 36659.0   50842300.0             660.33\n",
       "KATRINA                                6466.0   42219211.0             101.78\n",
       "FLOYD EMERGENCY DECLARATIONS          22022.0   37612300.0             405.48\n",
       "RITA                                   6521.0   37503808.0              91.83\n",
       "MATTHEW                               13514.0   36689253.0             212.84\n",
       "IKE                                    9882.0   24272947.0             142.62"
      ]
     },
     "execution_count": 65,
     "metadata": {},
     "output_type": "execute_result"
    }
   ],
   "source": [
    "emergency_declarations"
   ]
  },
  {
   "cell_type": "code",
   "execution_count": 66,
   "metadata": {},
   "outputs": [
    {
     "data": {
      "text/html": [
       "<div>\n",
       "<style scoped>\n",
       "    .dataframe tbody tr th:only-of-type {\n",
       "        vertical-align: middle;\n",
       "    }\n",
       "\n",
       "    .dataframe tbody tr th {\n",
       "        vertical-align: top;\n",
       "    }\n",
       "\n",
       "    .dataframe thead th {\n",
       "        text-align: right;\n",
       "    }\n",
       "</style>\n",
       "<table border=\"1\" class=\"dataframe\">\n",
       "  <thead>\n",
       "    <tr style=\"text-align: right;\">\n",
       "      <th></th>\n",
       "      <th>Disaster Number</th>\n",
       "      <th>employed</th>\n",
       "      <th>avg_wage_per_hour</th>\n",
       "    </tr>\n",
       "    <tr>\n",
       "      <th>Title</th>\n",
       "      <th></th>\n",
       "      <th></th>\n",
       "      <th></th>\n",
       "    </tr>\n",
       "  </thead>\n",
       "  <tbody>\n",
       "    <tr>\n",
       "      <th>IRMA</th>\n",
       "      <td>13021.0</td>\n",
       "      <td>61074242.0</td>\n",
       "      <td>163.52</td>\n",
       "    </tr>\n",
       "    <tr>\n",
       "      <th>IVAN</th>\n",
       "      <td>9305.0</td>\n",
       "      <td>58539202.0</td>\n",
       "      <td>284.40</td>\n",
       "    </tr>\n",
       "    <tr>\n",
       "      <th>FLOYD MAJOR DISASTER DECLARATIONS</th>\n",
       "      <td>12977.0</td>\n",
       "      <td>46900615.0</td>\n",
       "      <td>593.94</td>\n",
       "    </tr>\n",
       "    <tr>\n",
       "      <th>IRENE</th>\n",
       "      <td>28180.0</td>\n",
       "      <td>44169013.0</td>\n",
       "      <td>433.31</td>\n",
       "    </tr>\n",
       "    <tr>\n",
       "      <th>SANDY</th>\n",
       "      <td>45004.0</td>\n",
       "      <td>41392597.0</td>\n",
       "      <td>682.11</td>\n",
       "    </tr>\n",
       "    <tr>\n",
       "      <th>RITA</th>\n",
       "      <td>3213.0</td>\n",
       "      <td>37503808.0</td>\n",
       "      <td>91.83</td>\n",
       "    </tr>\n",
       "    <tr>\n",
       "      <th>ISABEL</th>\n",
       "      <td>7463.0</td>\n",
       "      <td>33848371.0</td>\n",
       "      <td>308.39</td>\n",
       "    </tr>\n",
       "    <tr>\n",
       "      <th>KATRINA</th>\n",
       "      <td>6414.0</td>\n",
       "      <td>29599271.0</td>\n",
       "      <td>181.27</td>\n",
       "    </tr>\n",
       "    <tr>\n",
       "      <th>DENNIS</th>\n",
       "      <td>4782.0</td>\n",
       "      <td>24815796.0</td>\n",
       "      <td>137.40</td>\n",
       "    </tr>\n",
       "    <tr>\n",
       "      <th>MATTHEW</th>\n",
       "      <td>21429.0</td>\n",
       "      <td>24395370.0</td>\n",
       "      <td>268.50</td>\n",
       "    </tr>\n",
       "  </tbody>\n",
       "</table>\n",
       "</div>"
      ],
      "text/plain": [
       "                                   Disaster Number    employed  \\\n",
       "Title                                                            \n",
       "IRMA                                       13021.0  61074242.0   \n",
       "IVAN                                        9305.0  58539202.0   \n",
       "FLOYD MAJOR DISASTER DECLARATIONS          12977.0  46900615.0   \n",
       "IRENE                                      28180.0  44169013.0   \n",
       "SANDY                                      45004.0  41392597.0   \n",
       "RITA                                        3213.0  37503808.0   \n",
       "ISABEL                                      7463.0  33848371.0   \n",
       "KATRINA                                     6414.0  29599271.0   \n",
       "DENNIS                                      4782.0  24815796.0   \n",
       "MATTHEW                                    21429.0  24395370.0   \n",
       "\n",
       "                                   avg_wage_per_hour  \n",
       "Title                                                 \n",
       "IRMA                                          163.52  \n",
       "IVAN                                          284.40  \n",
       "FLOYD MAJOR DISASTER DECLARATIONS             593.94  \n",
       "IRENE                                         433.31  \n",
       "SANDY                                         682.11  \n",
       "RITA                                           91.83  \n",
       "ISABEL                                        308.39  \n",
       "KATRINA                                       181.27  \n",
       "DENNIS                                        137.40  \n",
       "MATTHEW                                       268.50  "
      ]
     },
     "execution_count": 66,
     "metadata": {},
     "output_type": "execute_result"
    }
   ],
   "source": [
    "major_disaster"
   ]
  },
  {
   "cell_type": "code",
   "execution_count": 78,
   "metadata": {},
   "outputs": [],
   "source": [
    "small = pd.DataFrame(np.array([['KATRINA','LA'],['IRMA','FL'],['HARVEY','TX'],['MICHAEL','FL'],['SANDY','NJ'],['IKE','TX'],['MATTHEW','NC']]))"
   ]
  },
  {
   "cell_type": "code",
   "execution_count": 79,
   "metadata": {},
   "outputs": [],
   "source": [
    "small.rename(columns={0:'Title',1:'state'},inplace=True)"
   ]
  },
  {
   "cell_type": "code",
   "execution_count": 80,
   "metadata": {},
   "outputs": [],
   "source": [
    "ha_df = pd.merge(small, hurr_pop_inc, how='left', left_on='Title', right_on='Title')"
   ]
  },
  {
   "cell_type": "code",
   "execution_count": 81,
   "metadata": {},
   "outputs": [
    {
     "data": {
      "text/html": [
       "<div>\n",
       "<style scoped>\n",
       "    .dataframe tbody tr th:only-of-type {\n",
       "        vertical-align: middle;\n",
       "    }\n",
       "\n",
       "    .dataframe tbody tr th {\n",
       "        vertical-align: top;\n",
       "    }\n",
       "\n",
       "    .dataframe thead th {\n",
       "        text-align: right;\n",
       "    }\n",
       "</style>\n",
       "<table border=\"1\" class=\"dataframe\">\n",
       "  <thead>\n",
       "    <tr style=\"text-align: right;\">\n",
       "      <th></th>\n",
       "      <th>Title</th>\n",
       "      <th>state_x</th>\n",
       "      <th>Disaster Number</th>\n",
       "      <th>Disaster Type</th>\n",
       "      <th>Incident Begin Date</th>\n",
       "      <th>Incident Duration Days</th>\n",
       "      <th>state_y</th>\n",
       "      <th>employed</th>\n",
       "      <th>avg_wage_per_hour</th>\n",
       "    </tr>\n",
       "  </thead>\n",
       "  <tbody>\n",
       "    <tr>\n",
       "      <th>0</th>\n",
       "      <td>KATRINA</td>\n",
       "      <td>LA</td>\n",
       "      <td>1602.0</td>\n",
       "      <td>DR</td>\n",
       "      <td>2005-08-24</td>\n",
       "      <td>13</td>\n",
       "      <td>FL</td>\n",
       "      <td>5027794.0</td>\n",
       "      <td>50.79</td>\n",
       "    </tr>\n",
       "    <tr>\n",
       "      <th>1</th>\n",
       "      <td>KATRINA</td>\n",
       "      <td>LA</td>\n",
       "      <td>1603.0</td>\n",
       "      <td>DR</td>\n",
       "      <td>2005-08-29</td>\n",
       "      <td>64</td>\n",
       "      <td>LA</td>\n",
       "      <td>1981792.0</td>\n",
       "      <td>43.87</td>\n",
       "    </tr>\n",
       "    <tr>\n",
       "      <th>2</th>\n",
       "      <td>KATRINA</td>\n",
       "      <td>LA</td>\n",
       "      <td>1604.0</td>\n",
       "      <td>DR</td>\n",
       "      <td>2005-08-29</td>\n",
       "      <td>46</td>\n",
       "      <td>MS</td>\n",
       "      <td>16573970.0</td>\n",
       "      <td>40.95</td>\n",
       "    </tr>\n",
       "    <tr>\n",
       "      <th>3</th>\n",
       "      <td>KATRINA</td>\n",
       "      <td>LA</td>\n",
       "      <td>1605.0</td>\n",
       "      <td>DR</td>\n",
       "      <td>2005-08-29</td>\n",
       "      <td>28</td>\n",
       "      <td>AL</td>\n",
       "      <td>6015715.0</td>\n",
       "      <td>45.66</td>\n",
       "    </tr>\n",
       "    <tr>\n",
       "      <th>4</th>\n",
       "      <td>KATRINA</td>\n",
       "      <td>LA</td>\n",
       "      <td>3212.0</td>\n",
       "      <td>EM</td>\n",
       "      <td>2005-08-26</td>\n",
       "      <td>67</td>\n",
       "      <td>LA</td>\n",
       "      <td>1874258.0</td>\n",
       "      <td>43.87</td>\n",
       "    </tr>\n",
       "    <tr>\n",
       "      <th>5</th>\n",
       "      <td>KATRINA</td>\n",
       "      <td>LA</td>\n",
       "      <td>3213.0</td>\n",
       "      <td>EM</td>\n",
       "      <td>2005-08-27</td>\n",
       "      <td>48</td>\n",
       "      <td>MS</td>\n",
       "      <td>2342339.0</td>\n",
       "      <td>40.95</td>\n",
       "    </tr>\n",
       "    <tr>\n",
       "      <th>6</th>\n",
       "      <td>KATRINA</td>\n",
       "      <td>LA</td>\n",
       "      <td>3214.0</td>\n",
       "      <td>EM</td>\n",
       "      <td>2005-08-28</td>\n",
       "      <td>29</td>\n",
       "      <td>AL</td>\n",
       "      <td>1796361.0</td>\n",
       "      <td>45.66</td>\n",
       "    </tr>\n",
       "    <tr>\n",
       "      <th>7</th>\n",
       "      <td>KATRINA</td>\n",
       "      <td>LA</td>\n",
       "      <td>3244.0</td>\n",
       "      <td>EM</td>\n",
       "      <td>2005-08-29</td>\n",
       "      <td>33</td>\n",
       "      <td>ID</td>\n",
       "      <td>8177017.0</td>\n",
       "      <td>50.90</td>\n",
       "    </tr>\n",
       "    <tr>\n",
       "      <th>8</th>\n",
       "      <td>IRMA</td>\n",
       "      <td>FL</td>\n",
       "      <td>3385.0</td>\n",
       "      <td>EM</td>\n",
       "      <td>2017-09-04</td>\n",
       "      <td>44</td>\n",
       "      <td>FL</td>\n",
       "      <td>24120143.0</td>\n",
       "      <td>50.79</td>\n",
       "    </tr>\n",
       "    <tr>\n",
       "      <th>9</th>\n",
       "      <td>IRMA</td>\n",
       "      <td>FL</td>\n",
       "      <td>3386.0</td>\n",
       "      <td>EM</td>\n",
       "      <td>2017-09-06</td>\n",
       "      <td>7</td>\n",
       "      <td>SC</td>\n",
       "      <td>7004777.0</td>\n",
       "      <td>58.92</td>\n",
       "    </tr>\n",
       "  </tbody>\n",
       "</table>\n",
       "</div>"
      ],
      "text/plain": [
       "     Title state_x  Disaster Number Disaster Type Incident Begin Date  \\\n",
       "0  KATRINA      LA           1602.0            DR          2005-08-24   \n",
       "1  KATRINA      LA           1603.0            DR          2005-08-29   \n",
       "2  KATRINA      LA           1604.0            DR          2005-08-29   \n",
       "3  KATRINA      LA           1605.0            DR          2005-08-29   \n",
       "4  KATRINA      LA           3212.0            EM          2005-08-26   \n",
       "5  KATRINA      LA           3213.0            EM          2005-08-27   \n",
       "6  KATRINA      LA           3214.0            EM          2005-08-28   \n",
       "7  KATRINA      LA           3244.0            EM          2005-08-29   \n",
       "8     IRMA      FL           3385.0            EM          2017-09-04   \n",
       "9     IRMA      FL           3386.0            EM          2017-09-06   \n",
       "\n",
       "  Incident Duration Days state_y    employed  avg_wage_per_hour  \n",
       "0                     13      FL   5027794.0              50.79  \n",
       "1                     64      LA   1981792.0              43.87  \n",
       "2                     46      MS  16573970.0              40.95  \n",
       "3                     28      AL   6015715.0              45.66  \n",
       "4                     67      LA   1874258.0              43.87  \n",
       "5                     48      MS   2342339.0              40.95  \n",
       "6                     29      AL   1796361.0              45.66  \n",
       "7                     33      ID   8177017.0              50.90  \n",
       "8                     44      FL  24120143.0              50.79  \n",
       "9                      7      SC   7004777.0              58.92  "
      ]
     },
     "execution_count": 81,
     "metadata": {},
     "output_type": "execute_result"
    }
   ],
   "source": [
    "ha_df.head(10)"
   ]
  },
  {
   "cell_type": "code",
   "execution_count": 82,
   "metadata": {},
   "outputs": [],
   "source": [
    "last_version = small.join(hurr_pop_inc.set_index(['state','Title']),on=['state','Title'],lsuffix='yes',rsuffix='no')"
   ]
  },
  {
   "cell_type": "code",
   "execution_count": 83,
   "metadata": {},
   "outputs": [
    {
     "data": {
      "text/html": [
       "<div>\n",
       "<style scoped>\n",
       "    .dataframe tbody tr th:only-of-type {\n",
       "        vertical-align: middle;\n",
       "    }\n",
       "\n",
       "    .dataframe tbody tr th {\n",
       "        vertical-align: top;\n",
       "    }\n",
       "\n",
       "    .dataframe thead th {\n",
       "        text-align: right;\n",
       "    }\n",
       "</style>\n",
       "<table border=\"1\" class=\"dataframe\">\n",
       "  <thead>\n",
       "    <tr style=\"text-align: right;\">\n",
       "      <th></th>\n",
       "      <th>Title</th>\n",
       "      <th>state</th>\n",
       "      <th>Disaster Number</th>\n",
       "      <th>Disaster Type</th>\n",
       "      <th>Incident Begin Date</th>\n",
       "      <th>Incident Duration Days</th>\n",
       "      <th>employed</th>\n",
       "      <th>avg_wage_per_hour</th>\n",
       "    </tr>\n",
       "  </thead>\n",
       "  <tbody>\n",
       "    <tr>\n",
       "      <th>0</th>\n",
       "      <td>KATRINA</td>\n",
       "      <td>LA</td>\n",
       "      <td>1603.0</td>\n",
       "      <td>DR</td>\n",
       "      <td>2005-08-29</td>\n",
       "      <td>64</td>\n",
       "      <td>1981792.0</td>\n",
       "      <td>43.87</td>\n",
       "    </tr>\n",
       "    <tr>\n",
       "      <th>0</th>\n",
       "      <td>KATRINA</td>\n",
       "      <td>LA</td>\n",
       "      <td>3212.0</td>\n",
       "      <td>EM</td>\n",
       "      <td>2005-08-26</td>\n",
       "      <td>67</td>\n",
       "      <td>1874258.0</td>\n",
       "      <td>43.87</td>\n",
       "    </tr>\n",
       "    <tr>\n",
       "      <th>1</th>\n",
       "      <td>IRMA</td>\n",
       "      <td>FL</td>\n",
       "      <td>3385.0</td>\n",
       "      <td>EM</td>\n",
       "      <td>2017-09-04</td>\n",
       "      <td>44</td>\n",
       "      <td>24120143.0</td>\n",
       "      <td>50.79</td>\n",
       "    </tr>\n",
       "    <tr>\n",
       "      <th>1</th>\n",
       "      <td>IRMA</td>\n",
       "      <td>FL</td>\n",
       "      <td>4337.0</td>\n",
       "      <td>DR</td>\n",
       "      <td>2017-09-04</td>\n",
       "      <td>44</td>\n",
       "      <td>24120143.0</td>\n",
       "      <td>50.79</td>\n",
       "    </tr>\n",
       "    <tr>\n",
       "      <th>2</th>\n",
       "      <td>HARVEY</td>\n",
       "      <td>TX</td>\n",
       "      <td>4332.0</td>\n",
       "      <td>DR</td>\n",
       "      <td>2017-08-23</td>\n",
       "      <td>23</td>\n",
       "      <td>19167763.0</td>\n",
       "      <td>47.96</td>\n",
       "    </tr>\n",
       "    <tr>\n",
       "      <th>3</th>\n",
       "      <td>MICHAEL</td>\n",
       "      <td>FL</td>\n",
       "      <td>4399.0</td>\n",
       "      <td>DR</td>\n",
       "      <td>2018-10-07</td>\n",
       "      <td>12</td>\n",
       "      <td>7202641.0</td>\n",
       "      <td>50.79</td>\n",
       "    </tr>\n",
       "    <tr>\n",
       "      <th>4</th>\n",
       "      <td>SANDY</td>\n",
       "      <td>NJ</td>\n",
       "      <td>3354.0</td>\n",
       "      <td>EM</td>\n",
       "      <td>2012-10-26</td>\n",
       "      <td>13</td>\n",
       "      <td>7299609.0</td>\n",
       "      <td>74.85</td>\n",
       "    </tr>\n",
       "    <tr>\n",
       "      <th>4</th>\n",
       "      <td>SANDY</td>\n",
       "      <td>NJ</td>\n",
       "      <td>4086.0</td>\n",
       "      <td>DR</td>\n",
       "      <td>2012-10-26</td>\n",
       "      <td>13</td>\n",
       "      <td>7299609.0</td>\n",
       "      <td>74.85</td>\n",
       "    </tr>\n",
       "    <tr>\n",
       "      <th>5</th>\n",
       "      <td>IKE</td>\n",
       "      <td>TX</td>\n",
       "      <td>1791.0</td>\n",
       "      <td>DR</td>\n",
       "      <td>2008-09-07</td>\n",
       "      <td>25</td>\n",
       "      <td>16337336.0</td>\n",
       "      <td>47.96</td>\n",
       "    </tr>\n",
       "    <tr>\n",
       "      <th>5</th>\n",
       "      <td>IKE</td>\n",
       "      <td>TX</td>\n",
       "      <td>3294.0</td>\n",
       "      <td>EM</td>\n",
       "      <td>2008-09-07</td>\n",
       "      <td>19</td>\n",
       "      <td>23396160.0</td>\n",
       "      <td>47.96</td>\n",
       "    </tr>\n",
       "    <tr>\n",
       "      <th>6</th>\n",
       "      <td>MATTHEW</td>\n",
       "      <td>NC</td>\n",
       "      <td>3380.0</td>\n",
       "      <td>EM</td>\n",
       "      <td>2016-10-04</td>\n",
       "      <td>20</td>\n",
       "      <td>14679450.0</td>\n",
       "      <td>49.32</td>\n",
       "    </tr>\n",
       "    <tr>\n",
       "      <th>6</th>\n",
       "      <td>MATTHEW</td>\n",
       "      <td>NC</td>\n",
       "      <td>4285.0</td>\n",
       "      <td>DR</td>\n",
       "      <td>2016-10-04</td>\n",
       "      <td>20</td>\n",
       "      <td>10152014.0</td>\n",
       "      <td>49.32</td>\n",
       "    </tr>\n",
       "  </tbody>\n",
       "</table>\n",
       "</div>"
      ],
      "text/plain": [
       "     Title state  Disaster Number Disaster Type Incident Begin Date  \\\n",
       "0  KATRINA    LA           1603.0            DR          2005-08-29   \n",
       "0  KATRINA    LA           3212.0            EM          2005-08-26   \n",
       "1     IRMA    FL           3385.0            EM          2017-09-04   \n",
       "1     IRMA    FL           4337.0            DR          2017-09-04   \n",
       "2   HARVEY    TX           4332.0            DR          2017-08-23   \n",
       "3  MICHAEL    FL           4399.0            DR          2018-10-07   \n",
       "4    SANDY    NJ           3354.0            EM          2012-10-26   \n",
       "4    SANDY    NJ           4086.0            DR          2012-10-26   \n",
       "5      IKE    TX           1791.0            DR          2008-09-07   \n",
       "5      IKE    TX           3294.0            EM          2008-09-07   \n",
       "6  MATTHEW    NC           3380.0            EM          2016-10-04   \n",
       "6  MATTHEW    NC           4285.0            DR          2016-10-04   \n",
       "\n",
       "  Incident Duration Days    employed  avg_wage_per_hour  \n",
       "0                     64   1981792.0              43.87  \n",
       "0                     67   1874258.0              43.87  \n",
       "1                     44  24120143.0              50.79  \n",
       "1                     44  24120143.0              50.79  \n",
       "2                     23  19167763.0              47.96  \n",
       "3                     12   7202641.0              50.79  \n",
       "4                     13   7299609.0              74.85  \n",
       "4                     13   7299609.0              74.85  \n",
       "5                     25  16337336.0              47.96  \n",
       "5                     19  23396160.0              47.96  \n",
       "6                     20  14679450.0              49.32  \n",
       "6                     20  10152014.0              49.32  "
      ]
     },
     "execution_count": 83,
     "metadata": {},
     "output_type": "execute_result"
    }
   ],
   "source": [
    "last_version"
   ]
  },
  {
   "cell_type": "code",
   "execution_count": 84,
   "metadata": {
    "scrolled": false
   },
   "outputs": [],
   "source": [
    "robbie = last_version[last_version['Disaster Type'].str.contains('DR')]"
   ]
  },
  {
   "cell_type": "code",
   "execution_count": 267,
   "metadata": {},
   "outputs": [
    {
     "data": {
      "text/html": [
       "<div>\n",
       "<style scoped>\n",
       "    .dataframe tbody tr th:only-of-type {\n",
       "        vertical-align: middle;\n",
       "    }\n",
       "\n",
       "    .dataframe tbody tr th {\n",
       "        vertical-align: top;\n",
       "    }\n",
       "\n",
       "    .dataframe thead th {\n",
       "        text-align: right;\n",
       "    }\n",
       "</style>\n",
       "<table border=\"1\" class=\"dataframe\">\n",
       "  <thead>\n",
       "    <tr style=\"text-align: right;\">\n",
       "      <th></th>\n",
       "      <th>Title</th>\n",
       "      <th>State</th>\n",
       "      <th>Disaster Number</th>\n",
       "      <th>Disaster Type</th>\n",
       "      <th>Incident Begin Date</th>\n",
       "      <th>Incident Duration Days</th>\n",
       "      <th>Employed</th>\n",
       "      <th>Average Wage Per Hour</th>\n",
       "    </tr>\n",
       "  </thead>\n",
       "  <tbody>\n",
       "    <tr>\n",
       "      <th>0</th>\n",
       "      <td>KATRINA</td>\n",
       "      <td>LA</td>\n",
       "      <td>1603.0</td>\n",
       "      <td>DR</td>\n",
       "      <td>2005-08-29</td>\n",
       "      <td>64</td>\n",
       "      <td>1981792.0</td>\n",
       "      <td>43.87</td>\n",
       "    </tr>\n",
       "    <tr>\n",
       "      <th>1</th>\n",
       "      <td>IRMA</td>\n",
       "      <td>FL</td>\n",
       "      <td>4337.0</td>\n",
       "      <td>DR</td>\n",
       "      <td>2017-09-04</td>\n",
       "      <td>44</td>\n",
       "      <td>24120143.0</td>\n",
       "      <td>50.79</td>\n",
       "    </tr>\n",
       "    <tr>\n",
       "      <th>2</th>\n",
       "      <td>HARVEY</td>\n",
       "      <td>TX</td>\n",
       "      <td>4332.0</td>\n",
       "      <td>DR</td>\n",
       "      <td>2017-08-23</td>\n",
       "      <td>23</td>\n",
       "      <td>19167763.0</td>\n",
       "      <td>47.96</td>\n",
       "    </tr>\n",
       "    <tr>\n",
       "      <th>3</th>\n",
       "      <td>MICHAEL</td>\n",
       "      <td>FL</td>\n",
       "      <td>4399.0</td>\n",
       "      <td>DR</td>\n",
       "      <td>2018-10-07</td>\n",
       "      <td>12</td>\n",
       "      <td>7202641.0</td>\n",
       "      <td>50.79</td>\n",
       "    </tr>\n",
       "    <tr>\n",
       "      <th>4</th>\n",
       "      <td>SANDY</td>\n",
       "      <td>NJ</td>\n",
       "      <td>4086.0</td>\n",
       "      <td>DR</td>\n",
       "      <td>2012-10-26</td>\n",
       "      <td>13</td>\n",
       "      <td>7299609.0</td>\n",
       "      <td>74.85</td>\n",
       "    </tr>\n",
       "    <tr>\n",
       "      <th>5</th>\n",
       "      <td>IKE</td>\n",
       "      <td>TX</td>\n",
       "      <td>1791.0</td>\n",
       "      <td>DR</td>\n",
       "      <td>2008-09-07</td>\n",
       "      <td>25</td>\n",
       "      <td>16337336.0</td>\n",
       "      <td>47.96</td>\n",
       "    </tr>\n",
       "    <tr>\n",
       "      <th>6</th>\n",
       "      <td>MATTHEW</td>\n",
       "      <td>NC</td>\n",
       "      <td>4285.0</td>\n",
       "      <td>DR</td>\n",
       "      <td>2016-10-04</td>\n",
       "      <td>20</td>\n",
       "      <td>10152014.0</td>\n",
       "      <td>49.32</td>\n",
       "    </tr>\n",
       "  </tbody>\n",
       "</table>\n",
       "</div>"
      ],
      "text/plain": [
       "     Title State  Disaster Number Disaster Type Incident Begin Date  \\\n",
       "0  KATRINA    LA           1603.0            DR          2005-08-29   \n",
       "1     IRMA    FL           4337.0            DR          2017-09-04   \n",
       "2   HARVEY    TX           4332.0            DR          2017-08-23   \n",
       "3  MICHAEL    FL           4399.0            DR          2018-10-07   \n",
       "4    SANDY    NJ           4086.0            DR          2012-10-26   \n",
       "5      IKE    TX           1791.0            DR          2008-09-07   \n",
       "6  MATTHEW    NC           4285.0            DR          2016-10-04   \n",
       "\n",
       "  Incident Duration Days    Employed  Average Wage Per Hour  \n",
       "0                     64   1981792.0                  43.87  \n",
       "1                     44  24120143.0                  50.79  \n",
       "2                     23  19167763.0                  47.96  \n",
       "3                     12   7202641.0                  50.79  \n",
       "4                     13   7299609.0                  74.85  \n",
       "5                     25  16337336.0                  47.96  \n",
       "6                     20  10152014.0                  49.32  "
      ]
     },
     "execution_count": 267,
     "metadata": {},
     "output_type": "execute_result"
    }
   ],
   "source": [
    "robbie.rename(columns={'state':'State','employed':'Employed','avg_wage_per_hour':'Average Wage Per Hour'})"
   ]
  },
  {
   "cell_type": "markdown",
   "metadata": {},
   "source": [
    "### Visualizations and Data Analysis"
   ]
  },
  {
   "cell_type": "code",
   "execution_count": 277,
   "metadata": {},
   "outputs": [
    {
     "data": {
      "image/png": "[encoded data removed]",
      "text/plain": [
       "<Figure size 720x576 with 1 Axes>"
      ]
     },
     "metadata": {
      "image/png": {
       "height": 518,
       "width": 604
      },
      "needs_background": "light"
     },
     "output_type": "display_data"
    }
   ],
   "source": [
    "plt.figure(figsize=(10,8))\n",
    "plt.bar(robbie.Title, robbie.employed,width=0.75);\n",
    "plt.title('''Working Population Affected Per Hurricane\n",
    "on most affected States''', fontsize=22);\n",
    "plt.xticks(fontsize=14);\n",
    "plt.yticks(fontsize=16);"
   ]
  },
  {
   "cell_type": "code",
   "execution_count": 144,
   "metadata": {},
   "outputs": [],
   "source": [
    "mask = hurr_pop_inc[hurr_pop_inc['Disaster Type'] == 'DR']"
   ]
  },
  {
   "cell_type": "code",
   "execution_count": 181,
   "metadata": {},
   "outputs": [
    {
     "data": {
      "text/plain": [
       "(245, 8)"
      ]
     },
     "execution_count": 181,
     "metadata": {},
     "output_type": "execute_result"
    }
   ],
   "source": [
    "hurr_pop_inc.shape"
   ]
  },
  {
   "cell_type": "code",
   "execution_count": 146,
   "metadata": {},
   "outputs": [
    {
     "data": {
      "text/html": [
       "<div>\n",
       "<style scoped>\n",
       "    .dataframe tbody tr th:only-of-type {\n",
       "        vertical-align: middle;\n",
       "    }\n",
       "\n",
       "    .dataframe tbody tr th {\n",
       "        vertical-align: top;\n",
       "    }\n",
       "\n",
       "    .dataframe thead th {\n",
       "        text-align: right;\n",
       "    }\n",
       "</style>\n",
       "<table border=\"1\" class=\"dataframe\">\n",
       "  <thead>\n",
       "    <tr style=\"text-align: right;\">\n",
       "      <th></th>\n",
       "      <th>Disaster Number</th>\n",
       "      <th>Title</th>\n",
       "      <th>Disaster Type</th>\n",
       "      <th>Incident Begin Date</th>\n",
       "      <th>Incident Duration Days</th>\n",
       "      <th>state</th>\n",
       "      <th>employed</th>\n",
       "      <th>avg_wage_per_hour</th>\n",
       "    </tr>\n",
       "  </thead>\n",
       "  <tbody>\n",
       "    <tr>\n",
       "      <th>0</th>\n",
       "      <td>627.0</td>\n",
       "      <td>ALLEN</td>\n",
       "      <td>DR</td>\n",
       "      <td>1980-08-11</td>\n",
       "      <td>0</td>\n",
       "      <td>TX</td>\n",
       "      <td>1236581.0</td>\n",
       "      <td>47.96</td>\n",
       "    </tr>\n",
       "    <tr>\n",
       "      <th>1</th>\n",
       "      <td>689.0</td>\n",
       "      <td>ALICIA</td>\n",
       "      <td>DR</td>\n",
       "      <td>1983-08-18</td>\n",
       "      <td>2</td>\n",
       "      <td>TX</td>\n",
       "      <td>4994880.0</td>\n",
       "      <td>47.96</td>\n",
       "    </tr>\n",
       "    <tr>\n",
       "      <th>2</th>\n",
       "      <td>724.0</td>\n",
       "      <td>DIANA</td>\n",
       "      <td>DR</td>\n",
       "      <td>1984-09-11</td>\n",
       "      <td>0</td>\n",
       "      <td>NC</td>\n",
       "      <td>272006.0</td>\n",
       "      <td>49.32</td>\n",
       "    </tr>\n",
       "    <tr>\n",
       "      <th>3</th>\n",
       "      <td>741.0</td>\n",
       "      <td>ELENA</td>\n",
       "      <td>DR</td>\n",
       "      <td>1985-08-29</td>\n",
       "      <td>6</td>\n",
       "      <td>MS</td>\n",
       "      <td>1064955.0</td>\n",
       "      <td>40.95</td>\n",
       "    </tr>\n",
       "    <tr>\n",
       "      <th>4</th>\n",
       "      <td>742.0</td>\n",
       "      <td>ELENA</td>\n",
       "      <td>DR</td>\n",
       "      <td>1985-08-29</td>\n",
       "      <td>4</td>\n",
       "      <td>AL</td>\n",
       "      <td>294460.0</td>\n",
       "      <td>45.66</td>\n",
       "    </tr>\n",
       "  </tbody>\n",
       "</table>\n",
       "</div>"
      ],
      "text/plain": [
       "   Disaster Number   Title Disaster Type Incident Begin Date  \\\n",
       "0            627.0   ALLEN            DR          1980-08-11   \n",
       "1            689.0  ALICIA            DR          1983-08-18   \n",
       "2            724.0   DIANA            DR          1984-09-11   \n",
       "3            741.0   ELENA            DR          1985-08-29   \n",
       "4            742.0   ELENA            DR          1985-08-29   \n",
       "\n",
       "  Incident Duration Days state   employed  avg_wage_per_hour  \n",
       "0                      0    TX  1236581.0              47.96  \n",
       "1                      2    TX  4994880.0              47.96  \n",
       "2                      0    NC   272006.0              49.32  \n",
       "3                      6    MS  1064955.0              40.95  \n",
       "4                      4    AL   294460.0              45.66  "
      ]
     },
     "execution_count": 146,
     "metadata": {},
     "output_type": "execute_result"
    }
   ],
   "source": [
    "mask.head()"
   ]
  },
  {
   "cell_type": "code",
   "execution_count": 351,
   "metadata": {},
   "outputs": [
    {
     "data": {
      "image/png": "[encoded data removed]",
      "text/plain": [
       "<Figure size 720x576 with 1 Axes>"
      ]
     },
     "metadata": {
      "image/png": {
       "height": 567,
       "width": 711
      },
      "needs_background": "light"
     },
     "output_type": "display_data"
    }
   ],
   "source": [
    "plt.figure(figsize=(10,8))\n",
    "plt.hist(mask.state.sort_values(),bins=23,rwidth=0.9, align='mid');\n",
    "plt.title('Hurricane Frequency Per State', fontsize=26);\n",
    "plt.xlabel('States',fontsize=18)\n",
    "plt.ylabel('Frequency',fontsize=18)\n",
    "plt.xticks(fontsize=16);\n",
    "plt.yticks(fontsize=16);\n",
    "plt.tight_layout()"
   ]
  },
  {
   "cell_type": "code",
   "execution_count": 360,
   "metadata": {
    "scrolled": false
   },
   "outputs": [
    {
     "data": {
      "image/png": "[encoded data removed]",
      "text/plain": [
       "<Figure size 720x576 with 1 Axes>"
      ]
     },
     "metadata": {
      "image/png": {
       "height": 514,
       "width": 623
      },
      "needs_background": "light"
     },
     "output_type": "display_data"
    }
   ],
   "source": [
    "plt.figure(figsize=(10,8));\n",
    "plt.plot(income.state, income.avg_wage_per_hour,);\n",
    "plt.title('Average Wage Per Hour Per State', fontsize=30);\n",
    "plt.xticks(ticks=None, labels=None, fontsize=4);\n",
    "plt.xlabel('State', fontsize=20)\n",
    "plt.ylabel('Avg Wage Per Hour', fontsize=20)\n",
    "plt.yticks(fontsize=16);\n",
    "# plt.tight_layout()"
   ]
  },
  {
   "cell_type": "code",
   "execution_count": 242,
   "metadata": {},
   "outputs": [
    {
     "data": {
      "text/plain": [
       "39"
      ]
     },
     "execution_count": 242,
     "metadata": {},
     "output_type": "execute_result"
    }
   ],
   "source": [
    "mask['Incident Duration Days'].nunique()"
   ]
  },
  {
   "cell_type": "code",
   "execution_count": 238,
   "metadata": {},
   "outputs": [
    {
     "name": "stderr",
     "output_type": "stream",
     "text": [
      "/Users/ataakca/opt/anaconda3/lib/python3.7/site-packages/ipykernel_launcher.py:1: SettingWithCopyWarning: \n",
      "A value is trying to be set on a copy of a slice from a DataFrame.\n",
      "Try using .loc[row_indexer,col_indexer] = value instead\n",
      "\n",
      "See the caveats in the documentation: http://pandas.pydata.org/pandas-docs/stable/user_guide/indexing.html#returning-a-view-versus-a-copy\n",
      "  \"\"\"Entry point for launching an IPython kernel.\n"
     ]
    }
   ],
   "source": [
    "mask['Incident Duration Days'] = mask['Incident Duration Days'].astype(int)"
   ]
  },
  {
   "cell_type": "code",
   "execution_count": 240,
   "metadata": {
    "scrolled": true
   },
   "outputs": [
    {
     "name": "stdout",
     "output_type": "stream",
     "text": [
      "<class 'pandas.core.frame.DataFrame'>\n",
      "Int64Index: 138 entries, 0 to 244\n",
      "Data columns (total 8 columns):\n",
      "Disaster Number           138 non-null float64\n",
      "Title                     138 non-null object\n",
      "Disaster Type             138 non-null object\n",
      "Incident Begin Date       138 non-null datetime64[ns]\n",
      "Incident Duration Days    138 non-null int64\n",
      "state                     138 non-null object\n",
      "employed                  138 non-null float64\n",
      "avg_wage_per_hour         138 non-null float64\n",
      "dtypes: datetime64[ns](1), float64(3), int64(1), object(3)\n",
      "memory usage: 9.7+ KB\n"
     ]
    }
   ],
   "source": [
    "mask.info()"
   ]
  },
  {
   "cell_type": "code",
   "execution_count": 301,
   "metadata": {},
   "outputs": [
    {
     "data": {
      "image/png": "[encoded data removed]",
      "text/plain": [
       "<Figure size 720x576 with 1 Axes>"
      ]
     },
     "metadata": {
      "image/png": {
       "height": 568,
       "width": 712
      },
      "needs_background": "light"
     },
     "output_type": "display_data"
    }
   ],
   "source": [
    "plt.figure(figsize=(10,8))\n",
    "plt.hist(mask['Incident Duration Days'].value_counts().sort_index(),bins=40,rwidth=0.9, align='mid');\n",
    "plt.title('Incident Duration Days', fontsize=20);\n",
    "plt.xticks(fontsize=10);\n",
    "plt.yticks(fontsize=16);\n",
    "plt.tight_layout()"
   ]
  },
  {
   "cell_type": "code",
   "execution_count": 305,
   "metadata": {},
   "outputs": [],
   "source": [
    "values = list(mask['Incident Duration Days'].value_counts().sort_index())\n",
    "indeces = list(mask['Incident Duration Days'].value_counts().sort_index().index)"
   ]
  },
  {
   "cell_type": "code",
   "execution_count": 326,
   "metadata": {},
   "outputs": [],
   "source": [
    "for i in range(len(values)):\n",
    "    a[i] = pd.DataFrame([indeces[i],values[i]])"
   ]
  },
  {
   "cell_type": "code",
   "execution_count": 329,
   "metadata": {},
   "outputs": [],
   "source": [
    "a = a.T\n",
    "a = a.rename(columns={0:'duration_days', 1:'frequency'})"
   ]
  },
  {
   "cell_type": "code",
   "execution_count": 339,
   "metadata": {},
   "outputs": [
    {
     "data": {
      "image/png": "[encoded data removed]",
      "text/plain": [
       "<Figure size 720x576 with 1 Axes>"
      ]
     },
     "metadata": {
      "image/png": {
       "height": 568,
       "width": 712
      },
      "needs_background": "light"
     },
     "output_type": "display_data"
    }
   ],
   "source": [
    "plt.figure(figsize=(10,8))\n",
    "plt.hist(a.duration_days,bins=40,rwidth=0.9, align='mid');\n",
    "plt.title('Incident Duration Days', fontsize=20);\n",
    "plt.xticks(fontsize=10);\n",
    "plt.yticks(fontsize=16);\n",
    "plt.tight_layout()"
   ]
  },
  {
   "cell_type": "code",
   "execution_count": 356,
   "metadata": {},
   "outputs": [
    {
     "data": {
      "image/png": "[encoded data removed]",
      "text/plain": [
       "<Figure size 576x432 with 1 Axes>"
      ]
     },
     "metadata": {
      "image/png": {
       "height": 426,
       "width": 569
      },
      "needs_background": "light"
     },
     "output_type": "display_data"
    }
   ],
   "source": [
    "plt.figure(figsize=(8,6))\n",
    "plt.bar(a['duration_days'], a['frequency'], width=0.8);\n",
    "plt.title('Incident Duration Days', fontsize=30);\n",
    "plt.ylabel('Frequency',fontsize=16)\n",
    "plt.xlabel('Duration',fontsize=16)\n",
    "plt.xticks(fontsize=16);\n",
    "plt.yticks(fontsize=16);\n",
    "plt.tight_layout()"
   ]
  },
  {
   "cell_type": "code",
   "execution_count": 363,
   "metadata": {},
   "outputs": [
    {
     "data": {
      "text/html": [
       "<div>\n",
       "<style scoped>\n",
       "    .dataframe tbody tr th:only-of-type {\n",
       "        vertical-align: middle;\n",
       "    }\n",
       "\n",
       "    .dataframe tbody tr th {\n",
       "        vertical-align: top;\n",
       "    }\n",
       "\n",
       "    .dataframe thead th {\n",
       "        text-align: right;\n",
       "    }\n",
       "</style>\n",
       "<table border=\"1\" class=\"dataframe\">\n",
       "  <thead>\n",
       "    <tr style=\"text-align: right;\">\n",
       "      <th></th>\n",
       "      <th>Disaster Number</th>\n",
       "      <th>Title</th>\n",
       "      <th>Disaster Type</th>\n",
       "      <th>Incident Begin Date</th>\n",
       "      <th>Incident Duration Days</th>\n",
       "      <th>state</th>\n",
       "      <th>employed</th>\n",
       "      <th>avg_wage_per_hour</th>\n",
       "    </tr>\n",
       "  </thead>\n",
       "  <tbody>\n",
       "    <tr>\n",
       "      <th>0</th>\n",
       "      <td>627.0</td>\n",
       "      <td>ALLEN</td>\n",
       "      <td>DR</td>\n",
       "      <td>1980-08-11</td>\n",
       "      <td>0</td>\n",
       "      <td>TX</td>\n",
       "      <td>1236581.0</td>\n",
       "      <td>47.96</td>\n",
       "    </tr>\n",
       "    <tr>\n",
       "      <th>1</th>\n",
       "      <td>689.0</td>\n",
       "      <td>ALICIA</td>\n",
       "      <td>DR</td>\n",
       "      <td>1983-08-18</td>\n",
       "      <td>2</td>\n",
       "      <td>TX</td>\n",
       "      <td>4994880.0</td>\n",
       "      <td>47.96</td>\n",
       "    </tr>\n",
       "    <tr>\n",
       "      <th>2</th>\n",
       "      <td>724.0</td>\n",
       "      <td>DIANA</td>\n",
       "      <td>DR</td>\n",
       "      <td>1984-09-11</td>\n",
       "      <td>0</td>\n",
       "      <td>NC</td>\n",
       "      <td>272006.0</td>\n",
       "      <td>49.32</td>\n",
       "    </tr>\n",
       "    <tr>\n",
       "      <th>3</th>\n",
       "      <td>741.0</td>\n",
       "      <td>ELENA</td>\n",
       "      <td>DR</td>\n",
       "      <td>1985-08-29</td>\n",
       "      <td>6</td>\n",
       "      <td>MS</td>\n",
       "      <td>1064955.0</td>\n",
       "      <td>40.95</td>\n",
       "    </tr>\n",
       "    <tr>\n",
       "      <th>4</th>\n",
       "      <td>742.0</td>\n",
       "      <td>ELENA</td>\n",
       "      <td>DR</td>\n",
       "      <td>1985-08-29</td>\n",
       "      <td>4</td>\n",
       "      <td>AL</td>\n",
       "      <td>294460.0</td>\n",
       "      <td>45.66</td>\n",
       "    </tr>\n",
       "    <tr>\n",
       "      <th>...</th>\n",
       "      <td>...</td>\n",
       "      <td>...</td>\n",
       "      <td>...</td>\n",
       "      <td>...</td>\n",
       "      <td>...</td>\n",
       "      <td>...</td>\n",
       "      <td>...</td>\n",
       "      <td>...</td>\n",
       "    </tr>\n",
       "    <tr>\n",
       "      <th>240</th>\n",
       "      <td>4395.0</td>\n",
       "      <td>LANE</td>\n",
       "      <td>DR</td>\n",
       "      <td>2018-08-22</td>\n",
       "      <td>7</td>\n",
       "      <td>HI</td>\n",
       "      <td>202357.0</td>\n",
       "      <td>73.45</td>\n",
       "    </tr>\n",
       "    <tr>\n",
       "      <th>241</th>\n",
       "      <td>4399.0</td>\n",
       "      <td>MICHAEL</td>\n",
       "      <td>DR</td>\n",
       "      <td>2018-10-07</td>\n",
       "      <td>12</td>\n",
       "      <td>FL</td>\n",
       "      <td>7202641.0</td>\n",
       "      <td>50.79</td>\n",
       "    </tr>\n",
       "    <tr>\n",
       "      <th>242</th>\n",
       "      <td>4400.0</td>\n",
       "      <td>MICHAEL</td>\n",
       "      <td>DR</td>\n",
       "      <td>2018-10-09</td>\n",
       "      <td>14</td>\n",
       "      <td>GA</td>\n",
       "      <td>12251659.0</td>\n",
       "      <td>53.81</td>\n",
       "    </tr>\n",
       "    <tr>\n",
       "      <th>243</th>\n",
       "      <td>4401.0</td>\n",
       "      <td>FLORENCE</td>\n",
       "      <td>DR</td>\n",
       "      <td>2018-09-08</td>\n",
       "      <td>13</td>\n",
       "      <td>VA</td>\n",
       "      <td>3428417.0</td>\n",
       "      <td>55.66</td>\n",
       "    </tr>\n",
       "    <tr>\n",
       "      <th>244</th>\n",
       "      <td>4406.0</td>\n",
       "      <td>MICHAEL</td>\n",
       "      <td>DR</td>\n",
       "      <td>2018-10-10</td>\n",
       "      <td>3</td>\n",
       "      <td>AL</td>\n",
       "      <td>592444.0</td>\n",
       "      <td>45.66</td>\n",
       "    </tr>\n",
       "  </tbody>\n",
       "</table>\n",
       "<p>245 rows × 8 columns</p>\n",
       "</div>"
      ],
      "text/plain": [
       "     Disaster Number     Title Disaster Type Incident Begin Date  \\\n",
       "0              627.0     ALLEN            DR          1980-08-11   \n",
       "1              689.0    ALICIA            DR          1983-08-18   \n",
       "2              724.0     DIANA            DR          1984-09-11   \n",
       "3              741.0     ELENA            DR          1985-08-29   \n",
       "4              742.0     ELENA            DR          1985-08-29   \n",
       "..               ...       ...           ...                 ...   \n",
       "240           4395.0      LANE            DR          2018-08-22   \n",
       "241           4399.0   MICHAEL            DR          2018-10-07   \n",
       "242           4400.0   MICHAEL            DR          2018-10-09   \n",
       "243           4401.0  FLORENCE            DR          2018-09-08   \n",
       "244           4406.0   MICHAEL            DR          2018-10-10   \n",
       "\n",
       "    Incident Duration Days state    employed  avg_wage_per_hour  \n",
       "0                        0    TX   1236581.0              47.96  \n",
       "1                        2    TX   4994880.0              47.96  \n",
       "2                        0    NC    272006.0              49.32  \n",
       "3                        6    MS   1064955.0              40.95  \n",
       "4                        4    AL    294460.0              45.66  \n",
       "..                     ...   ...         ...                ...  \n",
       "240                      7    HI    202357.0              73.45  \n",
       "241                     12    FL   7202641.0              50.79  \n",
       "242                     14    GA  12251659.0              53.81  \n",
       "243                     13    VA   3428417.0              55.66  \n",
       "244                      3    AL    592444.0              45.66  \n",
       "\n",
       "[245 rows x 8 columns]"
      ]
     },
     "execution_count": 363,
     "metadata": {},
     "output_type": "execute_result"
    }
   ],
   "source": [
    "hurr_pop_inc"
   ]
  },
  {
   "cell_type": "code",
   "execution_count": 111,
   "metadata": {},
   "outputs": [],
   "source": [
    "robbie.to_csv('../../datasets/seven_hurricanes.csv')"
   ]
  }
 ],
 "metadata": {
  "kernelspec": {
   "display_name": "Python 3",
   "language": "python",
   "name": "python3"
  },
  "language_info": {
   "codemirror_mode": {
    "name": "ipython",
    "version": 3
   },
   "file_extension": ".py",
   "mimetype": "text/x-python",
   "name": "python",
   "nbconvert_exporter": "python",
   "pygments_lexer": "ipython3",
   "version": "3.7.4"
  }
 },
 "nbformat": 4,
 "nbformat_minor": 2
}
