{
 "cells": [
  {
   "cell_type": "code",
   "execution_count": 2,
   "metadata": {},
   "outputs": [],
   "source": [
    "import pandas as pd\n",
    "import matplotlib.pyplot as plt"
   ]
  },
  {
   "cell_type": "code",
   "execution_count": 3,
   "metadata": {},
   "outputs": [],
   "source": [
    "df = pd.read_csv(\"../Datasets/DisasterDeclarationsSummaries.csv\")"
   ]
  },
  {
   "cell_type": "code",
   "execution_count": 10,
   "metadata": {},
   "outputs": [
    {
     "data": {
      "text/plain": [
       "Index(['disasterNumber', 'ihProgramDeclared', 'iaProgramDeclared',\n",
       "       'paProgramDeclared', 'hmProgramDeclared', 'state', 'declarationDate',\n",
       "       'fyDeclared', 'disasterType', 'incidentType', 'title',\n",
       "       'incidentBeginDate', 'incidentEndDate', 'disasterCloseOutDate',\n",
       "       'declaredCountyArea', 'placeCode', 'hash', 'lastRefresh', 'id'],\n",
       "      dtype='object')"
      ]
     },
     "execution_count": 10,
     "metadata": {},
     "output_type": "execute_result"
    }
   ],
   "source": [
    "df.columns"
   ]
  },
  {
   "cell_type": "code",
   "execution_count": 11,
   "metadata": {},
   "outputs": [
    {
     "data": {
      "text/plain": [
       "TX    3953\n",
       "MO    2422\n",
       "VA    2184\n",
       "KY    2149\n",
       "OK    2031\n",
       "GA    1919\n",
       "FL    1798\n",
       "NC    1621\n",
       "IA    1596\n",
       "PR    1570\n",
       "LA    1541\n",
       "KS    1449\n",
       "MS    1367\n",
       "AL    1363\n",
       "AR    1351\n",
       "TN    1297\n",
       "NY    1284\n",
       "MN    1277\n",
       "IN    1266\n",
       "CA    1257\n",
       "NE    1218\n",
       "ND    1159\n",
       "WV    1109\n",
       "OH    1105\n",
       "PA    1092\n",
       "SD    1088\n",
       "IL    1064\n",
       "SC     742\n",
       "WA     738\n",
       "WI     722\n",
       "MI     596\n",
       "NJ     523\n",
       "CO     495\n",
       "MT     437\n",
       "OR     408\n",
       "MD     397\n",
       "ME     385\n",
       "MA     358\n",
       "NM     345\n",
       "VT     287\n",
       "NH     265\n",
       "ID     256\n",
       "AZ     226\n",
       "CT     197\n",
       "AK     169\n",
       "NV     165\n",
       "UT     161\n",
       "RI      89\n",
       "HI      79\n",
       "WY      77\n",
       "VI      72\n",
       "AS      65\n",
       "MH      61\n",
       "MP      54\n",
       "DE      44\n",
       "FM      31\n",
       "DC      20\n",
       "GU      16\n",
       "PW       6\n",
       "Name: state, dtype: int64"
      ]
     },
     "execution_count": 11,
     "metadata": {},
     "output_type": "execute_result"
    }
   ],
   "source": [
    "df['state'].value_counts()"
   ]
  },
  {
   "cell_type": "code",
   "execution_count": 5,
   "metadata": {},
   "outputs": [
    {
     "data": {
      "text/plain": [
       "(51016, 19)"
      ]
     },
     "execution_count": 5,
     "metadata": {},
     "output_type": "execute_result"
    }
   ],
   "source": [
    "df.shape"
   ]
  },
  {
   "cell_type": "code",
   "execution_count": 6,
   "metadata": {},
   "outputs": [
    {
     "data": {
      "text/plain": [
       "disasterNumber              0\n",
       "ihProgramDeclared           0\n",
       "iaProgramDeclared           0\n",
       "paProgramDeclared           0\n",
       "hmProgramDeclared           0\n",
       "state                       0\n",
       "declarationDate             0\n",
       "fyDeclared                  0\n",
       "disasterType                0\n",
       "incidentType                0\n",
       "title                       0\n",
       "incidentBeginDate           0\n",
       "incidentEndDate           513\n",
       "disasterCloseOutDate    10017\n",
       "declaredCountyArea        214\n",
       "placeCode                 214\n",
       "hash                       73\n",
       "lastRefresh                73\n",
       "id                          0\n",
       "dtype: int64"
      ]
     },
     "execution_count": 6,
     "metadata": {},
     "output_type": "execute_result"
    }
   ],
   "source": [
    "df.isnull().sum()"
   ]
  },
  {
   "cell_type": "markdown",
   "metadata": {},
   "source": [
    "yes this is markdown"
   ]
  },
  {
   "cell_type": "code",
   "execution_count": 8,
   "metadata": {},
   "outputs": [
    {
     "data": {
      "text/plain": [
       "(array([0., 0., 0., 0., 0., 1., 0., 0., 0., 0.]),\n",
       " array([-0.5, -0.4, -0.3, -0.2, -0.1,  0. ,  0.1,  0.2,  0.3,  0.4,  0.5]),\n",
       " <a list of 10 Patch objects>)"
      ]
     },
     "execution_count": 8,
     "metadata": {},
     "output_type": "execute_result"
    },
    {
     "data": {
      "image/png": "[encoded data removed]",
      "text/plain": [
       "<Figure size 432x288 with 1 Axes>"
      ]
     },
     "metadata": {
      "needs_background": "light"
     },
     "output_type": "display_data"
    }
   ],
   "source": [
    "plt.hist('state')"
   ]
  },
  {
   "cell_type": "code",
   "execution_count": null,
   "metadata": {},
   "outputs": [],
   "source": []
  }
 ],
 "metadata": {
  "kernelspec": {
   "display_name": "Python 3",
   "language": "python",
   "name": "python3"
  },
  "language_info": {
   "codemirror_mode": {
    "name": "ipython",
    "version": 3
   },
   "file_extension": ".py",
   "mimetype": "text/x-python",
   "name": "python",
   "nbconvert_exporter": "python",
   "pygments_lexer": "ipython3",
   "version": "3.7.4"
  }
 },
 "nbformat": 4,
 "nbformat_minor": 2
}
