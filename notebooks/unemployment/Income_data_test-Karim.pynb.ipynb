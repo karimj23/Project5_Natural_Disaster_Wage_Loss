{
 "cells": [
  {
   "cell_type": "code",
   "execution_count": 1,
   "metadata": {},
   "outputs": [],
   "source": [
    "import pandas as pd"
   ]
  },
  {
   "cell_type": "code",
   "execution_count": 2,
   "metadata": {},
   "outputs": [],
   "source": [
    "income = pd.read_csv('./complete.csv')"
   ]
  },
  {
   "cell_type": "code",
   "execution_count": 4,
   "metadata": {},
   "outputs": [
    {
     "data": {
      "text/html": [
       "<div>\n",
       "<style scoped>\n",
       "    .dataframe tbody tr th:only-of-type {\n",
       "        vertical-align: middle;\n",
       "    }\n",
       "\n",
       "    .dataframe tbody tr th {\n",
       "        vertical-align: top;\n",
       "    }\n",
       "\n",
       "    .dataframe thead th {\n",
       "        text-align: right;\n",
       "    }\n",
       "</style>\n",
       "<table border=\"1\" class=\"dataframe\">\n",
       "  <thead>\n",
       "    <tr style=\"text-align: right;\">\n",
       "      <th></th>\n",
       "      <th>zipcode</th>\n",
       "      <th>tot_income</th>\n",
       "      <th>state</th>\n",
       "      <th>population</th>\n",
       "      <th>city</th>\n",
       "      <th>county</th>\n",
       "      <th>lat</th>\n",
       "      <th>lon</th>\n",
       "    </tr>\n",
       "  </thead>\n",
       "  <tbody>\n",
       "    <tr>\n",
       "      <th>0</th>\n",
       "      <td>35004</td>\n",
       "      <td>290260</td>\n",
       "      <td>AL</td>\n",
       "      <td>10418</td>\n",
       "      <td>MOODY</td>\n",
       "      <td>St. Clair</td>\n",
       "      <td>33.603417</td>\n",
       "      <td>-86.493795</td>\n",
       "    </tr>\n",
       "    <tr>\n",
       "      <th>1</th>\n",
       "      <td>35005</td>\n",
       "      <td>121690</td>\n",
       "      <td>AL</td>\n",
       "      <td>7708</td>\n",
       "      <td>ADAMSVILLE</td>\n",
       "      <td>Jefferson</td>\n",
       "      <td>33.595950</td>\n",
       "      <td>-87.000649</td>\n",
       "    </tr>\n",
       "    <tr>\n",
       "      <th>2</th>\n",
       "      <td>35006</td>\n",
       "      <td>57418</td>\n",
       "      <td>AL</td>\n",
       "      <td>3099</td>\n",
       "      <td>ADGER</td>\n",
       "      <td>Jefferson</td>\n",
       "      <td>33.422765</td>\n",
       "      <td>-87.209730</td>\n",
       "    </tr>\n",
       "    <tr>\n",
       "      <th>3</th>\n",
       "      <td>35006</td>\n",
       "      <td>57418</td>\n",
       "      <td>AL</td>\n",
       "      <td>3099</td>\n",
       "      <td>ADGER</td>\n",
       "      <td>Tuscaloosa</td>\n",
       "      <td>33.422765</td>\n",
       "      <td>-87.209730</td>\n",
       "    </tr>\n",
       "    <tr>\n",
       "      <th>4</th>\n",
       "      <td>35006</td>\n",
       "      <td>57418</td>\n",
       "      <td>AL</td>\n",
       "      <td>3099</td>\n",
       "      <td>ADGER</td>\n",
       "      <td>Walker</td>\n",
       "      <td>33.422765</td>\n",
       "      <td>-87.209730</td>\n",
       "    </tr>\n",
       "  </tbody>\n",
       "</table>\n",
       "</div>"
      ],
      "text/plain": [
       "   zipcode  tot_income state  population        city      county        lat  \\\n",
       "0    35004      290260    AL       10418       MOODY   St. Clair  33.603417   \n",
       "1    35005      121690    AL        7708  ADAMSVILLE   Jefferson  33.595950   \n",
       "2    35006       57418    AL        3099       ADGER   Jefferson  33.422765   \n",
       "3    35006       57418    AL        3099       ADGER  Tuscaloosa  33.422765   \n",
       "4    35006       57418    AL        3099       ADGER      Walker  33.422765   \n",
       "\n",
       "         lon  \n",
       "0 -86.493795  \n",
       "1 -87.000649  \n",
       "2 -87.209730  \n",
       "3 -87.209730  \n",
       "4 -87.209730  "
      ]
     },
     "execution_count": 4,
     "metadata": {},
     "output_type": "execute_result"
    }
   ],
   "source": [
    "income.head()"
   ]
  },
  {
   "cell_type": "code",
   "execution_count": 9,
   "metadata": {},
   "outputs": [],
   "source": [
    "df = income.drop(['lat','lon'],axis = 1)[income['state'] == 'FL']"
   ]
  },
  {
   "cell_type": "code",
   "execution_count": 10,
   "metadata": {},
   "outputs": [],
   "source": [
    "df.to_csv(\"./fl_income_pop_zip_county.csv\")"
   ]
  },
  {
   "cell_type": "code",
   "execution_count": null,
   "metadata": {},
   "outputs": [],
   "source": []
  }
 ],
 "metadata": {
  "kernelspec": {
   "display_name": "Python 3",
   "language": "python",
   "name": "python3"
  },
  "language_info": {
   "codemirror_mode": {
    "name": "ipython",
    "version": 3
   },
   "file_extension": ".py",
   "mimetype": "text/x-python",
   "name": "python",
   "nbconvert_exporter": "python",
   "pygments_lexer": "ipython3",
   "version": "3.7.4"
  }
 },
 "nbformat": 4,
 "nbformat_minor": 2
}
