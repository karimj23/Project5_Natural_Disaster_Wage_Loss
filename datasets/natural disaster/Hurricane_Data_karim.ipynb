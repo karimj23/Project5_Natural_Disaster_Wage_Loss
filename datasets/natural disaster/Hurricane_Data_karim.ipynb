{
 "cells": [
  {
   "cell_type": "code",
   "execution_count": 10,
   "metadata": {},
   "outputs": [],
   "source": [
    "import pandas as pd"
   ]
  },
  {
   "cell_type": "code",
   "execution_count": 11,
   "metadata": {},
   "outputs": [],
   "source": [
    "df = pd.read_csv(\"../Datasets/DisasterDeclarationsSummaries.csv\")"
   ]
  },
  {
   "cell_type": "code",
   "execution_count": 12,
   "metadata": {},
   "outputs": [
    {
     "data": {
      "text/plain": [
       "(51016, 19)"
      ]
     },
     "execution_count": 12,
     "metadata": {},
     "output_type": "execute_result"
    }
   ],
   "source": [
    "df.shape"
   ]
  },
  {
   "cell_type": "code",
   "execution_count": 13,
   "metadata": {},
   "outputs": [
    {
     "data": {
      "text/html": [
       "<div>\n",
       "<style scoped>\n",
       "    .dataframe tbody tr th:only-of-type {\n",
       "        vertical-align: middle;\n",
       "    }\n",
       "\n",
       "    .dataframe tbody tr th {\n",
       "        vertical-align: top;\n",
       "    }\n",
       "\n",
       "    .dataframe thead th {\n",
       "        text-align: right;\n",
       "    }\n",
       "</style>\n",
       "<table border=\"1\" class=\"dataframe\">\n",
       "  <thead>\n",
       "    <tr style=\"text-align: right;\">\n",
       "      <th></th>\n",
       "      <th>disasterNumber</th>\n",
       "      <th>ihProgramDeclared</th>\n",
       "      <th>iaProgramDeclared</th>\n",
       "      <th>paProgramDeclared</th>\n",
       "      <th>hmProgramDeclared</th>\n",
       "      <th>state</th>\n",
       "      <th>declarationDate</th>\n",
       "      <th>fyDeclared</th>\n",
       "      <th>disasterType</th>\n",
       "      <th>incidentType</th>\n",
       "      <th>title</th>\n",
       "      <th>incidentBeginDate</th>\n",
       "      <th>incidentEndDate</th>\n",
       "      <th>disasterCloseOutDate</th>\n",
       "      <th>declaredCountyArea</th>\n",
       "      <th>placeCode</th>\n",
       "      <th>hash</th>\n",
       "      <th>lastRefresh</th>\n",
       "      <th>id</th>\n",
       "    </tr>\n",
       "  </thead>\n",
       "  <tbody>\n",
       "    <tr>\n",
       "      <th>0</th>\n",
       "      <td>1</td>\n",
       "      <td>0</td>\n",
       "      <td>1</td>\n",
       "      <td>1</td>\n",
       "      <td>1</td>\n",
       "      <td>GA</td>\n",
       "      <td>1953-05-02T00:00:00.000Z</td>\n",
       "      <td>1953</td>\n",
       "      <td>DR</td>\n",
       "      <td>Tornado</td>\n",
       "      <td>TORNADO</td>\n",
       "      <td>1953-05-02T00:00:00.000Z</td>\n",
       "      <td>1953-05-02T00:00:00.000Z</td>\n",
       "      <td>1954-06-01T00:00:00.000Z</td>\n",
       "      <td>NaN</td>\n",
       "      <td>NaN</td>\n",
       "      <td>1dcb40d0664d22d39de787b706b0fa69</td>\n",
       "      <td>2019-07-26T18:08:57.368Z</td>\n",
       "      <td>5d1bbd8c8bdcfa6efb32fd8d</td>\n",
       "    </tr>\n",
       "    <tr>\n",
       "      <th>1</th>\n",
       "      <td>2</td>\n",
       "      <td>0</td>\n",
       "      <td>1</td>\n",
       "      <td>1</td>\n",
       "      <td>1</td>\n",
       "      <td>TX</td>\n",
       "      <td>1953-05-15T00:00:00.000Z</td>\n",
       "      <td>1953</td>\n",
       "      <td>DR</td>\n",
       "      <td>Tornado</td>\n",
       "      <td>TORNADO &amp; HEAVY RAINFALL</td>\n",
       "      <td>1953-05-15T00:00:00.000Z</td>\n",
       "      <td>1953-05-15T00:00:00.000Z</td>\n",
       "      <td>1958-01-01T00:00:00.000Z</td>\n",
       "      <td>NaN</td>\n",
       "      <td>NaN</td>\n",
       "      <td>61612cea5779e361b429799098974b6a</td>\n",
       "      <td>2019-07-26T18:08:57.370Z</td>\n",
       "      <td>5d1bbd8c8bdcfa6efb32fd8e</td>\n",
       "    </tr>\n",
       "    <tr>\n",
       "      <th>2</th>\n",
       "      <td>3</td>\n",
       "      <td>0</td>\n",
       "      <td>1</td>\n",
       "      <td>1</td>\n",
       "      <td>1</td>\n",
       "      <td>LA</td>\n",
       "      <td>1953-05-29T00:00:00.000Z</td>\n",
       "      <td>1953</td>\n",
       "      <td>DR</td>\n",
       "      <td>Flood</td>\n",
       "      <td>FLOOD</td>\n",
       "      <td>1953-05-29T00:00:00.000Z</td>\n",
       "      <td>1953-05-29T00:00:00.000Z</td>\n",
       "      <td>1960-02-01T00:00:00.000Z</td>\n",
       "      <td>NaN</td>\n",
       "      <td>NaN</td>\n",
       "      <td>86f3e47785cb7acc51364d4535d36101</td>\n",
       "      <td>2019-07-26T18:08:57.369Z</td>\n",
       "      <td>5d1bbd8c8bdcfa6efb32fd8f</td>\n",
       "    </tr>\n",
       "    <tr>\n",
       "      <th>3</th>\n",
       "      <td>6</td>\n",
       "      <td>0</td>\n",
       "      <td>1</td>\n",
       "      <td>1</td>\n",
       "      <td>1</td>\n",
       "      <td>MI</td>\n",
       "      <td>1953-06-09T00:00:00.000Z</td>\n",
       "      <td>1953</td>\n",
       "      <td>DR</td>\n",
       "      <td>Tornado</td>\n",
       "      <td>TORNADO</td>\n",
       "      <td>1953-06-09T00:00:00.000Z</td>\n",
       "      <td>1953-06-09T00:00:00.000Z</td>\n",
       "      <td>1956-03-30T00:00:00.000Z</td>\n",
       "      <td>NaN</td>\n",
       "      <td>NaN</td>\n",
       "      <td>2208518c84c44f8e4164248d47f89ead</td>\n",
       "      <td>2019-07-26T18:08:57.369Z</td>\n",
       "      <td>5d1bbd8c8bdcfa6efb32fd92</td>\n",
       "    </tr>\n",
       "    <tr>\n",
       "      <th>4</th>\n",
       "      <td>4</td>\n",
       "      <td>0</td>\n",
       "      <td>1</td>\n",
       "      <td>1</td>\n",
       "      <td>1</td>\n",
       "      <td>MI</td>\n",
       "      <td>1953-06-02T00:00:00.000Z</td>\n",
       "      <td>1953</td>\n",
       "      <td>DR</td>\n",
       "      <td>Tornado</td>\n",
       "      <td>TORNADO</td>\n",
       "      <td>1953-06-02T00:00:00.000Z</td>\n",
       "      <td>1953-06-02T00:00:00.000Z</td>\n",
       "      <td>1956-02-01T00:00:00.000Z</td>\n",
       "      <td>NaN</td>\n",
       "      <td>NaN</td>\n",
       "      <td>1dbe5937a01fc74c8e699912e3f555cb</td>\n",
       "      <td>2019-07-26T18:08:57.370Z</td>\n",
       "      <td>5d1bbd8c8bdcfa6efb32fd91</td>\n",
       "    </tr>\n",
       "  </tbody>\n",
       "</table>\n",
       "</div>"
      ],
      "text/plain": [
       "   disasterNumber  ihProgramDeclared  iaProgramDeclared  paProgramDeclared  \\\n",
       "0               1                  0                  1                  1   \n",
       "1               2                  0                  1                  1   \n",
       "2               3                  0                  1                  1   \n",
       "3               6                  0                  1                  1   \n",
       "4               4                  0                  1                  1   \n",
       "\n",
       "   hmProgramDeclared state           declarationDate  fyDeclared disasterType  \\\n",
       "0                  1    GA  1953-05-02T00:00:00.000Z        1953           DR   \n",
       "1                  1    TX  1953-05-15T00:00:00.000Z        1953           DR   \n",
       "2                  1    LA  1953-05-29T00:00:00.000Z        1953           DR   \n",
       "3                  1    MI  1953-06-09T00:00:00.000Z        1953           DR   \n",
       "4                  1    MI  1953-06-02T00:00:00.000Z        1953           DR   \n",
       "\n",
       "  incidentType                     title         incidentBeginDate  \\\n",
       "0      Tornado                   TORNADO  1953-05-02T00:00:00.000Z   \n",
       "1      Tornado  TORNADO & HEAVY RAINFALL  1953-05-15T00:00:00.000Z   \n",
       "2        Flood                     FLOOD  1953-05-29T00:00:00.000Z   \n",
       "3      Tornado                   TORNADO  1953-06-09T00:00:00.000Z   \n",
       "4      Tornado                   TORNADO  1953-06-02T00:00:00.000Z   \n",
       "\n",
       "            incidentEndDate      disasterCloseOutDate declaredCountyArea  \\\n",
       "0  1953-05-02T00:00:00.000Z  1954-06-01T00:00:00.000Z                NaN   \n",
       "1  1953-05-15T00:00:00.000Z  1958-01-01T00:00:00.000Z                NaN   \n",
       "2  1953-05-29T00:00:00.000Z  1960-02-01T00:00:00.000Z                NaN   \n",
       "3  1953-06-09T00:00:00.000Z  1956-03-30T00:00:00.000Z                NaN   \n",
       "4  1953-06-02T00:00:00.000Z  1956-02-01T00:00:00.000Z                NaN   \n",
       "\n",
       "   placeCode                              hash               lastRefresh  \\\n",
       "0        NaN  1dcb40d0664d22d39de787b706b0fa69  2019-07-26T18:08:57.368Z   \n",
       "1        NaN  61612cea5779e361b429799098974b6a  2019-07-26T18:08:57.370Z   \n",
       "2        NaN  86f3e47785cb7acc51364d4535d36101  2019-07-26T18:08:57.369Z   \n",
       "3        NaN  2208518c84c44f8e4164248d47f89ead  2019-07-26T18:08:57.369Z   \n",
       "4        NaN  1dbe5937a01fc74c8e699912e3f555cb  2019-07-26T18:08:57.370Z   \n",
       "\n",
       "                         id  \n",
       "0  5d1bbd8c8bdcfa6efb32fd8d  \n",
       "1  5d1bbd8c8bdcfa6efb32fd8e  \n",
       "2  5d1bbd8c8bdcfa6efb32fd8f  \n",
       "3  5d1bbd8c8bdcfa6efb32fd92  \n",
       "4  5d1bbd8c8bdcfa6efb32fd91  "
      ]
     },
     "execution_count": 13,
     "metadata": {},
     "output_type": "execute_result"
    }
   ],
   "source": [
    "df.head()"
   ]
  },
  {
   "cell_type": "code",
   "execution_count": 14,
   "metadata": {},
   "outputs": [],
   "source": [
    "df = df.loc[df['state'] == 'FL']"
   ]
  },
  {
   "cell_type": "code",
   "execution_count": 15,
   "metadata": {},
   "outputs": [],
   "source": [
    "df = df.loc[df[\"incidentType\"] == \"Hurricane\"]"
   ]
  },
  {
   "cell_type": "code",
   "execution_count": 19,
   "metadata": {},
   "outputs": [
    {
     "data": {
      "text/plain": [
       "array([nan, 'Collier (County)', 'Broward (County)', 'Glades (County)',\n",
       "       'Martin (County)', 'St. Lucie (County)', 'Hendry (County)',\n",
       "       'Palm Beach (County)', 'Monroe (County)', 'Lee (County)',\n",
       "       'Dade (County)', 'St. Johns (County)', 'Citrus (County)',\n",
       "       'Duval (County)', 'Manatee (County)', 'Charlotte (County)',\n",
       "       'Putnam (County)', 'Sarasota (County)', 'Hillsborough (County)',\n",
       "       'Marion (County)', 'Hernando (County)', 'Sumter (County)',\n",
       "       'Pinellas (County)', 'Pasco (County)', 'Franklin (County)',\n",
       "       'Levy (County)', 'Calhoun (County)', 'Wakulla (County)',\n",
       "       'Liberty (County)', 'Gadsden (County)', 'Okaloosa (County)',\n",
       "       'Dixie (County)', 'Bay (County)', 'Gulf (County)', 'Leon (County)',\n",
       "       'Santa Rosa (County)', 'Walton (County)', 'Escambia (County)',\n",
       "       'Washington (County)', 'Jackson (County)', 'Jefferson (County)',\n",
       "       'Holmes (County)', 'Osceola (County)', 'Brevard (County)',\n",
       "       'Flagler (County)', 'Okeechobee (County)', 'DeSoto (County)',\n",
       "       'Polk (County)', 'Hardee (County)', 'Lake (County)',\n",
       "       'Clay (County)', 'Lafayette (County)', 'Volusia (County)',\n",
       "       'Suwannee (County)', 'Baker (County)', 'Hamilton (County)',\n",
       "       'Madison (County)', 'Nassau (County)', 'Indian River (County)',\n",
       "       'Taylor (County)', 'Columbia (County)', 'Gilchrist (County)',\n",
       "       'Highlands (County)', 'Seminole (County)', 'Bradford (County)',\n",
       "       'Alachua (County)', 'Miami-Dade (County)', 'Orange (County)',\n",
       "       'Union (County)', 'Hollywood Indian Reservation',\n",
       "       'Immokalee Indian Reservation', 'Big Cypress Indian Reservation',\n",
       "       'Brighton Indian Reservation', 'Fort Pierce Indian Reservation',\n",
       "       'Tampa Reservation'], dtype=object)"
      ]
     },
     "execution_count": 19,
     "metadata": {},
     "output_type": "execute_result"
    }
   ],
   "source": [
    "df['declaredCountyArea'].unique()"
   ]
  },
  {
   "cell_type": "code",
   "execution_count": 16,
   "metadata": {
    "scrolled": true
   },
   "outputs": [
    {
     "data": {
      "text/plain": [
       "declaredCountyArea\n",
       "Alachua (County)                   9\n",
       "Baker (County)                    10\n",
       "Bay (County)                      19\n",
       "Big Cypress Indian Reservation     2\n",
       "Bradford (County)                  9\n",
       "                                  ..\n",
       "Union (County)                     9\n",
       "Volusia (County)                  15\n",
       "Wakulla (County)                  17\n",
       "Walton (County)                   16\n",
       "Washington (County)               13\n",
       "Name: declaredCountyArea, Length: 74, dtype: int64"
      ]
     },
     "execution_count": 16,
     "metadata": {},
     "output_type": "execute_result"
    }
   ],
   "source": [
    "df['declaredCountyArea'].groupby(by=df['declaredCountyArea']).count().so"
   ]
  },
  {
   "cell_type": "code",
   "execution_count": 8,
   "metadata": {},
   "outputs": [
    {
     "data": {
      "text/plain": [
       "24997     True\n",
       "38788     True\n",
       "33799     True\n",
       "32323     True\n",
       "36466     True\n",
       "         ...  \n",
       "41583    False\n",
       "41551    False\n",
       "41530    False\n",
       "41457    False\n",
       "121      False\n",
       "Name: title, Length: 930, dtype: bool"
      ]
     },
     "execution_count": 8,
     "metadata": {},
     "output_type": "execute_result"
    }
   ],
   "source": [
    "df['title'].str.contains('HURRICANE GUSTAV').sort_values(ascending=False)"
   ]
  },
  {
   "cell_type": "code",
   "execution_count": 20,
   "metadata": {},
   "outputs": [
    {
     "data": {
      "text/html": [
       "<div>\n",
       "<style scoped>\n",
       "    .dataframe tbody tr th:only-of-type {\n",
       "        vertical-align: middle;\n",
       "    }\n",
       "\n",
       "    .dataframe tbody tr th {\n",
       "        vertical-align: top;\n",
       "    }\n",
       "\n",
       "    .dataframe thead th {\n",
       "        text-align: right;\n",
       "    }\n",
       "</style>\n",
       "<table border=\"1\" class=\"dataframe\">\n",
       "  <thead>\n",
       "    <tr style=\"text-align: right;\">\n",
       "      <th></th>\n",
       "      <th>disasterNumber</th>\n",
       "      <th>ihProgramDeclared</th>\n",
       "      <th>iaProgramDeclared</th>\n",
       "      <th>paProgramDeclared</th>\n",
       "      <th>hmProgramDeclared</th>\n",
       "      <th>state</th>\n",
       "      <th>declarationDate</th>\n",
       "      <th>fyDeclared</th>\n",
       "      <th>disasterType</th>\n",
       "      <th>incidentType</th>\n",
       "      <th>title</th>\n",
       "      <th>incidentBeginDate</th>\n",
       "      <th>incidentEndDate</th>\n",
       "      <th>disasterCloseOutDate</th>\n",
       "      <th>declaredCountyArea</th>\n",
       "      <th>placeCode</th>\n",
       "      <th>hash</th>\n",
       "      <th>lastRefresh</th>\n",
       "      <th>id</th>\n",
       "    </tr>\n",
       "  </thead>\n",
       "  <tbody>\n",
       "    <tr>\n",
       "      <th>121</th>\n",
       "      <td>106</td>\n",
       "      <td>0</td>\n",
       "      <td>1</td>\n",
       "      <td>1</td>\n",
       "      <td>1</td>\n",
       "      <td>FL</td>\n",
       "      <td>1960-09-12T00:00:00.000Z</td>\n",
       "      <td>1960</td>\n",
       "      <td>DR</td>\n",
       "      <td>Hurricane</td>\n",
       "      <td>HURRICANE DONNA</td>\n",
       "      <td>1960-09-12T00:00:00.000Z</td>\n",
       "      <td>1960-09-12T00:00:00.000Z</td>\n",
       "      <td>1962-05-24T00:00:00.000Z</td>\n",
       "      <td>NaN</td>\n",
       "      <td>NaN</td>\n",
       "      <td>d27e9b8e67c9ceea1a5cd477e7e4a84a</td>\n",
       "      <td>2019-07-26T18:08:57.504Z</td>\n",
       "      <td>5d1bbd8f8bdcfa6efb32fdff</td>\n",
       "    </tr>\n",
       "    <tr>\n",
       "      <th>165</th>\n",
       "      <td>175</td>\n",
       "      <td>0</td>\n",
       "      <td>1</td>\n",
       "      <td>1</td>\n",
       "      <td>1</td>\n",
       "      <td>FL</td>\n",
       "      <td>1964-09-08T00:00:00.000Z</td>\n",
       "      <td>1964</td>\n",
       "      <td>DR</td>\n",
       "      <td>Hurricane</td>\n",
       "      <td>HURRICANE CLEO</td>\n",
       "      <td>1964-09-08T00:00:00.000Z</td>\n",
       "      <td>1964-09-08T00:00:00.000Z</td>\n",
       "      <td>1966-01-18T00:00:00.000Z</td>\n",
       "      <td>NaN</td>\n",
       "      <td>NaN</td>\n",
       "      <td>5fd452f767dc96afd6a98713a0c2eeb1</td>\n",
       "      <td>2019-07-26T18:08:57.505Z</td>\n",
       "      <td>5d1bbd908bdcfa6efb32fe3c</td>\n",
       "    </tr>\n",
       "  </tbody>\n",
       "</table>\n",
       "</div>"
      ],
      "text/plain": [
       "     disasterNumber  ihProgramDeclared  iaProgramDeclared  paProgramDeclared  \\\n",
       "121             106                  0                  1                  1   \n",
       "165             175                  0                  1                  1   \n",
       "\n",
       "     hmProgramDeclared state           declarationDate  fyDeclared  \\\n",
       "121                  1    FL  1960-09-12T00:00:00.000Z        1960   \n",
       "165                  1    FL  1964-09-08T00:00:00.000Z        1964   \n",
       "\n",
       "    disasterType incidentType            title         incidentBeginDate  \\\n",
       "121           DR    Hurricane  HURRICANE DONNA  1960-09-12T00:00:00.000Z   \n",
       "165           DR    Hurricane   HURRICANE CLEO  1964-09-08T00:00:00.000Z   \n",
       "\n",
       "              incidentEndDate      disasterCloseOutDate declaredCountyArea  \\\n",
       "121  1960-09-12T00:00:00.000Z  1962-05-24T00:00:00.000Z                NaN   \n",
       "165  1964-09-08T00:00:00.000Z  1966-01-18T00:00:00.000Z                NaN   \n",
       "\n",
       "     placeCode                              hash               lastRefresh  \\\n",
       "121        NaN  d27e9b8e67c9ceea1a5cd477e7e4a84a  2019-07-26T18:08:57.504Z   \n",
       "165        NaN  5fd452f767dc96afd6a98713a0c2eeb1  2019-07-26T18:08:57.505Z   \n",
       "\n",
       "                           id  \n",
       "121  5d1bbd8f8bdcfa6efb32fdff  \n",
       "165  5d1bbd908bdcfa6efb32fe3c  "
      ]
     },
     "execution_count": 20,
     "metadata": {},
     "output_type": "execute_result"
    }
   ],
   "source": [
    "df.head(2)"
   ]
  },
  {
   "cell_type": "code",
   "execution_count": null,
   "metadata": {},
   "outputs": [],
   "source": []
  }
 ],
 "metadata": {
  "kernelspec": {
   "display_name": "Python 3",
   "language": "python",
   "name": "python3"
  },
  "language_info": {
   "codemirror_mode": {
    "name": "ipython",
    "version": 3
   },
   "file_extension": ".py",
   "mimetype": "text/x-python",
   "name": "python",
   "nbconvert_exporter": "python",
   "pygments_lexer": "ipython3",
   "version": "3.7.4"
  }
 },
 "nbformat": 4,
 "nbformat_minor": 2
}
